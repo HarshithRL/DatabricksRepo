{
 "cells": [
  {
   "cell_type": "markdown",
   "metadata": {
    "application/vnd.databricks.v1+cell": {
     "cellMetadata": {},
     "inputWidgets": {},
     "nuid": "deda0435-ee95-4539-99f8-d7f44e1a9289",
     "showTitle": false,
     "title": ""
    }
   },
   "source": [
    "#Modules imported"
   ]
  },
  {
   "cell_type": "code",
   "execution_count": 0,
   "metadata": {
    "application/vnd.databricks.v1+cell": {
     "cellMetadata": {
      "byteLimit": 2048000,
      "rowLimit": 10000
     },
     "inputWidgets": {},
     "nuid": "652ca0a7-905f-4830-b4df-4ca435574274",
     "showTitle": false,
     "title": ""
    }
   },
   "outputs": [],
   "source": [
    "from pyspark.sql.functions import explode,col,when"
   ]
  },
  {
   "cell_type": "markdown",
   "metadata": {
    "application/vnd.databricks.v1+cell": {
     "cellMetadata": {},
     "inputWidgets": {},
     "nuid": "09ea08d1-1c2c-4d59-908b-08ed427b3f5e",
     "showTitle": false,
     "title": ""
    }
   },
   "source": [
    "Function to read any file"
   ]
  },
  {
   "cell_type": "code",
   "execution_count": 0,
   "metadata": {
    "application/vnd.databricks.v1+cell": {
     "cellMetadata": {
      "byteLimit": 2048000,
      "rowLimit": 10000
     },
     "inputWidgets": {},
     "nuid": "74360d20-adad-4ffb-8bcd-eee3d57c192a",
     "showTitle": false,
     "title": ""
    }
   },
   "outputs": [],
   "source": [
    "def read_fi(fileformat,path,**options):\n",
    "    df=spark.read.format(fileformat).options(**options).load(path)\n",
    "    return df"
   ]
  },
  {
   "cell_type": "markdown",
   "metadata": {
    "application/vnd.databricks.v1+cell": {
     "cellMetadata": {},
     "inputWidgets": {},
     "nuid": "b26a4495-bf82-4936-8ac3-f4046c2cfe04",
     "showTitle": false,
     "title": ""
    }
   },
   "source": [
    "function to explode json"
   ]
  },
  {
   "cell_type": "code",
   "execution_count": 0,
   "metadata": {
    "application/vnd.databricks.v1+cell": {
     "cellMetadata": {
      "byteLimit": 2048000,
      "rowLimit": 10000
     },
     "inputWidgets": {},
     "nuid": "0ef1aa23-641e-4ccb-a6fe-8bd2cba85fa6",
     "showTitle": false,
     "title": ""
    }
   },
   "outputs": [],
   "source": [
    "def explode_json(df_json):\n",
    "    flat=df_json.select(\"id\", \"department\",\"salary\", explode(col(\"projects\")).alias(\"project\"))\n",
    "    flatten=flat.withColumn(\"status\",when(col(\"project.status\").isNull(),None).otherwise(col(\"project.status\")))\n",
    "    flattened_df =flatten.withColumn(\"Project_name\",when(col(\"project.name\").isNull(),None).otherwise(col(\"project.name\"))).drop('project')\n",
    "    return flattened_df"
   ]
  },
  {
   "cell_type": "markdown",
   "metadata": {
    "application/vnd.databricks.v1+cell": {
     "cellMetadata": {},
     "inputWidgets": {},
     "nuid": "7803b070-5763-4948-8641-79549806d705",
     "showTitle": false,
     "title": ""
    }
   },
   "source": [
    "function to rename column"
   ]
  },
  {
   "cell_type": "code",
   "execution_count": 0,
   "metadata": {
    "application/vnd.databricks.v1+cell": {
     "cellMetadata": {
      "byteLimit": 2048000,
      "rowLimit": 10000
     },
     "inputWidgets": {},
     "nuid": "6796b344-e616-4484-ae32-e8e55bc1141c",
     "showTitle": false,
     "title": ""
    }
   },
   "outputs": [],
   "source": [
    "def rename_all_columns_to_lowercase(df):\n",
    "    new_columns = [col(column).alias(column.lower()) for column in df.columns]\n",
    "    return df.select(*new_columns)\n",
    "#rename_all_columns_to_lowercase(df_j).display()"
   ]
  },
  {
   "cell_type": "markdown",
   "metadata": {
    "application/vnd.databricks.v1+cell": {
     "cellMetadata": {},
     "inputWidgets": {},
     "nuid": "b7e2e48a-1bb4-424b-8951-70642e953e44",
     "showTitle": false,
     "title": ""
    }
   },
   "source": [
    "function to remove duplicates"
   ]
  },
  {
   "cell_type": "code",
   "execution_count": 0,
   "metadata": {
    "application/vnd.databricks.v1+cell": {
     "cellMetadata": {
      "byteLimit": 2048000,
      "rowLimit": 10000
     },
     "inputWidgets": {},
     "nuid": "0c1ffd1e-4598-478d-bc98-10ff52baa38d",
     "showTitle": false,
     "title": ""
    }
   },
   "outputs": [],
   "source": [
    "def remove_duplicates_replace_null(df):\n",
    "    drop_df=df.dropDuplicates()\n",
    "    replaced_null=drop_df.fillna(0)\n",
    "    return replaced_null"
   ]
  },
  {
   "cell_type": "markdown",
   "metadata": {
    "application/vnd.databricks.v1+cell": {
     "cellMetadata": {},
     "inputWidgets": {},
     "nuid": "b87e3a7b-0f1d-4ac7-909e-af3b3d1ed9b8",
     "showTitle": false,
     "title": ""
    }
   },
   "source": [
    "function to remove record"
   ]
  },
  {
   "cell_type": "code",
   "execution_count": 0,
   "metadata": {
    "application/vnd.databricks.v1+cell": {
     "cellMetadata": {
      "byteLimit": 2048000,
      "rowLimit": 10000
     },
     "inputWidgets": {},
     "nuid": "58031f7b-336a-44db-b4dd-8beb5f0b8e9d",
     "showTitle": false,
     "title": ""
    }
   },
   "outputs": [],
   "source": [
    "def deleate_record(df,colname,values):\n",
    "    df_removed=df.filter(~df[colname].isin(values))\n",
    "    return df_removed"
   ]
  },
  {
   "cell_type": "markdown",
   "metadata": {
    "application/vnd.databricks.v1+cell": {
     "cellMetadata": {},
     "inputWidgets": {},
     "nuid": "72b0b7b7-b81f-43ee-bc6f-0cf574a11839",
     "showTitle": false,
     "title": ""
    }
   },
   "source": [
    "function to join table"
   ]
  },
  {
   "cell_type": "code",
   "execution_count": 0,
   "metadata": {
    "application/vnd.databricks.v1+cell": {
     "cellMetadata": {
      "byteLimit": 2048000,
      "rowLimit": 10000
     },
     "inputWidgets": {},
     "nuid": "40847847-d104-4d7d-b63f-2d4b86ff3ee6",
     "showTitle": false,
     "title": ""
    }
   },
   "outputs": [],
   "source": [
    "def join_table(df1,df2,colName,colname,method):\n",
    "    return df1.join(df2,df1[colName]==df2[colname],how=method).drop(df2[colname])"
   ]
  },
  {
   "cell_type": "markdown",
   "metadata": {
    "application/vnd.databricks.v1+cell": {
     "cellMetadata": {},
     "inputWidgets": {},
     "nuid": "9e5113f5-3b3a-461f-8282-2ac0ca3ab58f",
     "showTitle": false,
     "title": ""
    }
   },
   "source": [
    "function to write file"
   ]
  },
  {
   "cell_type": "code",
   "execution_count": 0,
   "metadata": {
    "application/vnd.databricks.v1+cell": {
     "cellMetadata": {
      "byteLimit": 2048000,
      "rowLimit": 10000
     },
     "inputWidgets": {},
     "nuid": "fc2ff883-67a5-49af-8cfe-a8cdcfd23d0b",
     "showTitle": false,
     "title": ""
    }
   },
   "outputs": [],
   "source": [
    "def write_file(df_json_sample,Type,path):\n",
    "    df_json_sample.write.format(Type).mode(\"append\").save(path)"
   ]
  },
  {
   "cell_type": "code",
   "execution_count": 0,
   "metadata": {
    "application/vnd.databricks.v1+cell": {
     "cellMetadata": {},
     "inputWidgets": {},
     "nuid": "207e8f95-3d4b-46fe-9b16-e6424b21da56",
     "showTitle": false,
     "title": ""
    }
   },
   "outputs": [],
   "source": []
  }
 ],
 "metadata": {
  "application/vnd.databricks.v1+notebook": {
   "dashboards": [],
   "language": "python",
   "notebookMetadata": {
    "pythonIndentUnit": 4
   },
   "notebookName": "common_functions",
   "widgets": {}
  }
 },
 "nbformat": 4,
 "nbformat_minor": 0
}
