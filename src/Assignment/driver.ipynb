{
 "cells": [
  {
   "cell_type": "markdown",
   "metadata": {
    "application/vnd.databricks.v1+cell": {
     "cellMetadata": {},
     "inputWidgets": {},
     "nuid": "72c27a9c-705a-4959-8b3f-e8de8ddec82f",
     "showTitle": false,
     "title": ""
    }
   },
   "source": [
    "#imported from workspace"
   ]
  },
  {
   "cell_type": "code",
   "execution_count": 0,
   "metadata": {
    "application/vnd.databricks.v1+cell": {
     "cellMetadata": {
      "byteLimit": 2048000,
      "rowLimit": 10000
     },
     "inputWidgets": {},
     "nuid": "431389cc-50f4-42e4-943d-5ee4236b0394",
     "showTitle": false,
     "title": ""
    }
   },
   "outputs": [],
   "source": [
    "%run \"/Users/harshith.r@diggibyte.com/common_functions\""
   ]
  },
  {
   "cell_type": "code",
   "execution_count": 0,
   "metadata": {
    "application/vnd.databricks.v1+cell": {
     "cellMetadata": {
      "byteLimit": 2048000,
      "rowLimit": 10000
     },
     "inputWidgets": {},
     "nuid": "d706abf8-a174-47f4-ab88-6196eba0caaf",
     "showTitle": false,
     "title": ""
    }
   },
   "outputs": [],
   "source": [
    "%run \"/Users/harshith.r@diggibyte.com/Schema\""
   ]
  },
  {
   "cell_type": "markdown",
   "metadata": {
    "application/vnd.databricks.v1+cell": {
     "cellMetadata": {},
     "inputWidgets": {},
     "nuid": "94325db6-8add-4627-964d-24e7527d7a4a",
     "showTitle": false,
     "title": ""
    }
   },
   "source": [
    "Read the csv to DF"
   ]
  },
  {
   "cell_type": "code",
   "execution_count": 0,
   "metadata": {
    "application/vnd.databricks.v1+cell": {
     "cellMetadata": {
      "byteLimit": 2048000,
      "rowLimit": 10000
     },
     "inputWidgets": {},
     "nuid": "80691203-0258-4aab-a7c0-894ebd0b3459",
     "showTitle": false,
     "title": ""
    }
   },
   "outputs": [
    {
     "output_type": "display_data",
     "data": {
      "text/html": [
       "<style scoped>\n",
       "  .table-result-container {\n",
       "    max-height: 300px;\n",
       "    overflow: auto;\n",
       "  }\n",
       "  table, th, td {\n",
       "    border: 1px solid black;\n",
       "    border-collapse: collapse;\n",
       "  }\n",
       "  th, td {\n",
       "    padding: 5px;\n",
       "  }\n",
       "  th {\n",
       "    text-align: left;\n",
       "  }\n",
       "</style><div class='table-result-container'><table class='table-result'><thead style='background-color: white'><tr><th>id</th><th>name</th><th>age</th><th>city</th></tr></thead><tbody><tr><td>1</td><td>John</td><td>25</td><td>New York</td></tr><tr><td>2</td><td>Jane</td><td>30</td><td>Los Angeles</td></tr><tr><td>3</td><td>David</td><td>35</td><td>Chicago</td></tr><tr><td>4</td><td>Sarah</td><td>28</td><td>Miami</td></tr><tr><td>5</td><td>Michael</td><td>32</td><td>Seattle</td></tr><tr><td>6</td><td>Sarah</td><td>28</td><td>Miami</td></tr><tr><td>7</td><td>Emma</td><td>40</td><td>San Francisco</td></tr><tr><td>8</td><td>Brian</td><td>45</td><td>null</td></tr><tr><td>9</td><td>Emily</td><td>null</td><td>Null</td></tr><tr><td>10</td><td>Matthew</td><td>27</td><td>Houston</td></tr><tr><td>11</td><td>John</td><td>26</td><td>Dallas</td></tr><tr><td>12</td><td>Chris</td><td>31</td><td>Chicago</td></tr><tr><td>13</td><td>Amy</td><td>29</td><td>Null</td></tr><tr><td>14</td><td>Emily</td><td>27</td><td>Houston</td></tr><tr><td>15</td><td>Michael</td><td>32</td><td>Seattle</td></tr><tr><td>16</td><td>Olivia</td><td>33</td><td>New York</td></tr><tr><td>17</td><td>John</td><td>25</td><td>Los Angeles</td></tr><tr><td>18</td><td>David</td><td>35</td><td>Chicago</td></tr><tr><td>19</td><td>Emma</td><td>40</td><td>San Francisco</td></tr><tr><td>20</td><td>Brian</td><td>45</td><td>null</td></tr><tr><td>21</td><td>John</td><td>26</td><td>Dallas</td></tr><tr><td>22</td><td>Emily</td><td>27</td><td>Houston</td></tr><tr><td>23</td><td>Michael</td><td>32</td><td>Seattle</td></tr><tr><td>24</td><td>Alex</td><td>30</td><td>Null</td></tr><tr><td>25</td><td>John</td><td>25</td><td>Los Angeles</td></tr><tr><td>26</td><td>David</td><td>35</td><td>Chicago</td></tr><tr><td>27</td><td>Sarah</td><td>28</td><td>Miami</td></tr><tr><td>28</td><td>Sarah</td><td>28</td><td>Miami</td></tr><tr><td>29</td><td>Emma</td><td>40</td><td>San Francisco</td></tr><tr><td>30</td><td>Brian</td><td>45</td><td>null</td></tr><tr><td>31</td><td>John</td><td>26</td><td>Dallas</td></tr><tr><td>32</td><td>Chris</td><td>31</td><td>Chicago</td></tr><tr><td>33</td><td>Amy</td><td>29</td><td>Null</td></tr><tr><td>34</td><td>Emily</td><td>27</td><td>Houston</td></tr><tr><td>35</td><td>Michael</td><td>32</td><td>Seattle</td></tr><tr><td>36</td><td>Olivia</td><td>33</td><td>New York</td></tr><tr><td>37</td><td>John</td><td>25</td><td>Los Angeles</td></tr><tr><td>38</td><td>David</td><td>35</td><td>Chicago</td></tr><tr><td>39</td><td>Emma</td><td>40</td><td>San Francisco</td></tr><tr><td>40</td><td>Brian</td><td>45</td><td>null</td></tr><tr><td>41</td><td>John</td><td>26</td><td>Dallas</td></tr><tr><td>42</td><td>Emily</td><td>27</td><td>Houston</td></tr><tr><td>43</td><td>Michael</td><td>32</td><td>Seattle</td></tr><tr><td>44</td><td>Alex</td><td>30</td><td>Null</td></tr><tr><td>45</td><td>John</td><td>25</td><td>Los Angeles</td></tr><tr><td>46</td><td>David</td><td>35</td><td>Chicago</td></tr><tr><td>47</td><td>Sarah</td><td>28</td><td>Miami</td></tr><tr><td>48</td><td>Sarah</td><td>28</td><td>Miami</td></tr><tr><td>49</td><td>Emma</td><td>40</td><td>San Francisco</td></tr><tr><td>50</td><td>Brian</td><td>45</td><td>null</td></tr><tr><td>51</td><td>John</td><td>26</td><td>Dallas</td></tr><tr><td>52</td><td>Chris</td><td>31</td><td>Chicago</td></tr><tr><td>53</td><td>Amy</td><td>29</td><td>Null</td></tr><tr><td>54</td><td>Emily</td><td>27</td><td>Houston</td></tr><tr><td>55</td><td>Michael</td><td>32</td><td>Seattle</td></tr><tr><td>56</td><td>Olivia</td><td>33</td><td>New York</td></tr><tr><td>57</td><td>John</td><td>25</td><td>Los Angeles</td></tr><tr><td>58</td><td>David</td><td>35</td><td>Chicago</td></tr><tr><td>59</td><td>Emma</td><td>40</td><td>San Francisco</td></tr><tr><td>60</td><td>Brian</td><td>45</td><td>null</td></tr><tr><td>61</td><td>John</td><td>26</td><td>Dallas</td></tr><tr><td>62</td><td>Emily</td><td>27</td><td>Houston</td></tr><tr><td>63</td><td>Michael</td><td>32</td><td>Seattle</td></tr><tr><td>64</td><td>Alex</td><td>30</td><td>Null</td></tr><tr><td>65</td><td>John</td><td>25</td><td>Los Angeles</td></tr><tr><td>66</td><td>David</td><td>35</td><td>Chicago</td></tr><tr><td>67</td><td>Sarah</td><td>28</td><td>Miami</td></tr><tr><td>68</td><td>Sarah</td><td>28</td><td>Miami</td></tr><tr><td>69</td><td>Emma</td><td>40</td><td>San Francisco</td></tr><tr><td>70</td><td>Brian</td><td>45</td><td>null</td></tr><tr><td>71</td><td>John</td><td>26</td><td>Dallas</td></tr><tr><td>72</td><td>Chris</td><td>31</td><td>Chicago</td></tr><tr><td>73</td><td>Amy</td><td>29</td><td>Null</td></tr><tr><td>74</td><td>Emily</td><td>27</td><td>Houston</td></tr><tr><td>75</td><td>Michael</td><td>32</td><td>Seattle</td></tr><tr><td>76</td><td>Olivia</td><td>33</td><td>New York</td></tr><tr><td>77</td><td>John</td><td>25</td><td>Los Angeles</td></tr><tr><td>78</td><td>David</td><td>35</td><td>Chicago</td></tr><tr><td>79</td><td>Emma</td><td>40</td><td>San Francisco</td></tr><tr><td>80</td><td>Brian</td><td>45</td><td>null</td></tr><tr><td>81</td><td>John</td><td>26</td><td>Dallas</td></tr><tr><td>82</td><td>Emily</td><td>27</td><td>Houston</td></tr><tr><td>83</td><td>Michael</td><td>32</td><td>Seattle</td></tr><tr><td>84</td><td>Alex</td><td>30</td><td>Null</td></tr><tr><td>85</td><td>John</td><td>25</td><td>Los Angeles</td></tr><tr><td>86</td><td>David</td><td>35</td><td>Chicago</td></tr><tr><td>87</td><td>Sarah</td><td>28</td><td>Miami</td></tr><tr><td>88</td><td>Sarah</td><td>28</td><td>Miami</td></tr><tr><td>92</td><td>Chris</td><td>31</td><td>Chicago</td></tr><tr><td>89</td><td>Emma</td><td>40</td><td>San Francisco</td></tr><tr><td>91</td><td>John</td><td>26</td><td>Dallas</td></tr><tr><td>90</td><td>Brian</td><td>45</td><td>null</td></tr></tbody></table></div>"
      ]
     },
     "metadata": {
      "application/vnd.databricks.v1+output": {
       "addedWidgets": {},
       "aggData": [],
       "aggError": "",
       "aggOverflow": false,
       "aggSchema": [],
       "aggSeriesLimitReached": false,
       "aggType": "",
       "arguments": {},
       "columnCustomDisplayInfos": {},
       "data": [
        [
         "1",
         "John",
         "25",
         "New York"
        ],
        [
         "2",
         "Jane",
         "30",
         "Los Angeles"
        ],
        [
         "3",
         "David",
         "35",
         "Chicago"
        ],
        [
         "4",
         "Sarah",
         "28",
         "Miami"
        ],
        [
         "5",
         "Michael",
         "32",
         "Seattle"
        ],
        [
         "6",
         "Sarah",
         "28",
         "Miami"
        ],
        [
         "7",
         "Emma",
         "40",
         "San Francisco"
        ],
        [
         "8",
         "Brian",
         "45",
         null
        ],
        [
         "9",
         "Emily",
         null,
         "Null"
        ],
        [
         "10",
         "Matthew",
         "27",
         "Houston"
        ],
        [
         "11",
         "John",
         "26",
         "Dallas"
        ],
        [
         "12",
         "Chris",
         "31",
         "Chicago"
        ],
        [
         "13",
         "Amy",
         "29",
         "Null"
        ],
        [
         "14",
         "Emily",
         "27",
         "Houston"
        ],
        [
         "15",
         "Michael",
         "32",
         "Seattle"
        ],
        [
         "16",
         "Olivia",
         "33",
         "New York"
        ],
        [
         "17",
         "John",
         "25",
         "Los Angeles"
        ],
        [
         "18",
         "David",
         "35",
         "Chicago"
        ],
        [
         "19",
         "Emma",
         "40",
         "San Francisco"
        ],
        [
         "20",
         "Brian",
         "45",
         null
        ],
        [
         "21",
         "John",
         "26",
         "Dallas"
        ],
        [
         "22",
         "Emily",
         "27",
         "Houston"
        ],
        [
         "23",
         "Michael",
         "32",
         "Seattle"
        ],
        [
         "24",
         "Alex",
         "30",
         "Null"
        ],
        [
         "25",
         "John",
         "25",
         "Los Angeles"
        ],
        [
         "26",
         "David",
         "35",
         "Chicago"
        ],
        [
         "27",
         "Sarah",
         "28",
         "Miami"
        ],
        [
         "28",
         "Sarah",
         "28",
         "Miami"
        ],
        [
         "29",
         "Emma",
         "40",
         "San Francisco"
        ],
        [
         "30",
         "Brian",
         "45",
         null
        ],
        [
         "31",
         "John",
         "26",
         "Dallas"
        ],
        [
         "32",
         "Chris",
         "31",
         "Chicago"
        ],
        [
         "33",
         "Amy",
         "29",
         "Null"
        ],
        [
         "34",
         "Emily",
         "27",
         "Houston"
        ],
        [
         "35",
         "Michael",
         "32",
         "Seattle"
        ],
        [
         "36",
         "Olivia",
         "33",
         "New York"
        ],
        [
         "37",
         "John",
         "25",
         "Los Angeles"
        ],
        [
         "38",
         "David",
         "35",
         "Chicago"
        ],
        [
         "39",
         "Emma",
         "40",
         "San Francisco"
        ],
        [
         "40",
         "Brian",
         "45",
         null
        ],
        [
         "41",
         "John",
         "26",
         "Dallas"
        ],
        [
         "42",
         "Emily",
         "27",
         "Houston"
        ],
        [
         "43",
         "Michael",
         "32",
         "Seattle"
        ],
        [
         "44",
         "Alex",
         "30",
         "Null"
        ],
        [
         "45",
         "John",
         "25",
         "Los Angeles"
        ],
        [
         "46",
         "David",
         "35",
         "Chicago"
        ],
        [
         "47",
         "Sarah",
         "28",
         "Miami"
        ],
        [
         "48",
         "Sarah",
         "28",
         "Miami"
        ],
        [
         "49",
         "Emma",
         "40",
         "San Francisco"
        ],
        [
         "50",
         "Brian",
         "45",
         null
        ],
        [
         "51",
         "John",
         "26",
         "Dallas"
        ],
        [
         "52",
         "Chris",
         "31",
         "Chicago"
        ],
        [
         "53",
         "Amy",
         "29",
         "Null"
        ],
        [
         "54",
         "Emily",
         "27",
         "Houston"
        ],
        [
         "55",
         "Michael",
         "32",
         "Seattle"
        ],
        [
         "56",
         "Olivia",
         "33",
         "New York"
        ],
        [
         "57",
         "John",
         "25",
         "Los Angeles"
        ],
        [
         "58",
         "David",
         "35",
         "Chicago"
        ],
        [
         "59",
         "Emma",
         "40",
         "San Francisco"
        ],
        [
         "60",
         "Brian",
         "45",
         null
        ],
        [
         "61",
         "John",
         "26",
         "Dallas"
        ],
        [
         "62",
         "Emily",
         "27",
         "Houston"
        ],
        [
         "63",
         "Michael",
         "32",
         "Seattle"
        ],
        [
         "64",
         "Alex",
         "30",
         "Null"
        ],
        [
         "65",
         "John",
         "25",
         "Los Angeles"
        ],
        [
         "66",
         "David",
         "35",
         "Chicago"
        ],
        [
         "67",
         "Sarah",
         "28",
         "Miami"
        ],
        [
         "68",
         "Sarah",
         "28",
         "Miami"
        ],
        [
         "69",
         "Emma",
         "40",
         "San Francisco"
        ],
        [
         "70",
         "Brian",
         "45",
         null
        ],
        [
         "71",
         "John",
         "26",
         "Dallas"
        ],
        [
         "72",
         "Chris",
         "31",
         "Chicago"
        ],
        [
         "73",
         "Amy",
         "29",
         "Null"
        ],
        [
         "74",
         "Emily",
         "27",
         "Houston"
        ],
        [
         "75",
         "Michael",
         "32",
         "Seattle"
        ],
        [
         "76",
         "Olivia",
         "33",
         "New York"
        ],
        [
         "77",
         "John",
         "25",
         "Los Angeles"
        ],
        [
         "78",
         "David",
         "35",
         "Chicago"
        ],
        [
         "79",
         "Emma",
         "40",
         "San Francisco"
        ],
        [
         "80",
         "Brian",
         "45",
         null
        ],
        [
         "81",
         "John",
         "26",
         "Dallas"
        ],
        [
         "82",
         "Emily",
         "27",
         "Houston"
        ],
        [
         "83",
         "Michael",
         "32",
         "Seattle"
        ],
        [
         "84",
         "Alex",
         "30",
         "Null"
        ],
        [
         "85",
         "John",
         "25",
         "Los Angeles"
        ],
        [
         "86",
         "David",
         "35",
         "Chicago"
        ],
        [
         "87",
         "Sarah",
         "28",
         "Miami"
        ],
        [
         "88",
         "Sarah",
         "28",
         "Miami"
        ],
        [
         "92",
         "Chris",
         "31",
         "Chicago"
        ],
        [
         "89",
         "Emma",
         "40",
         "San Francisco"
        ],
        [
         "91",
         "John",
         "26",
         "Dallas"
        ],
        [
         "90",
         "Brian",
         "45",
         null
        ]
       ],
       "datasetInfos": [],
       "dbfsResultPath": null,
       "isJsonSchema": true,
       "metadata": {},
       "overflow": false,
       "plotOptions": {
        "customPlotOptions": {},
        "displayType": "table",
        "pivotAggregation": null,
        "pivotColumns": null,
        "xColumns": null,
        "yColumns": null
       },
       "removedWidgets": [],
       "schema": [
        {
         "metadata": "{}",
         "name": "id",
         "type": "\"string\""
        },
        {
         "metadata": "{}",
         "name": "name",
         "type": "\"string\""
        },
        {
         "metadata": "{}",
         "name": "age",
         "type": "\"string\""
        },
        {
         "metadata": "{}",
         "name": "city",
         "type": "\"string\""
        }
       ],
       "type": "table"
      }
     },
     "output_type": "display_data"
    }
   ],
   "source": [
    "file_path =\"/FileStore/tables/sample_csv.csv\"\n",
    "df_csv=read_file(\"csv\",file_path,schema=Schema_employee,header=True)\n",
    "display(df_csv)\n"
   ]
  },
  {
   "cell_type": "markdown",
   "metadata": {
    "application/vnd.databricks.v1+cell": {
     "cellMetadata": {},
     "inputWidgets": {},
     "nuid": "224ff64a-1b77-47b5-af89-77c49f93997c",
     "showTitle": false,
     "title": ""
    }
   },
   "source": [
    "Write the file"
   ]
  },
  {
   "cell_type": "code",
   "execution_count": 0,
   "metadata": {
    "application/vnd.databricks.v1+cell": {
     "cellMetadata": {
      "byteLimit": 2048000,
      "rowLimit": 10000
     },
     "inputWidgets": {},
     "nuid": "ab282f22-301e-4eb3-a292-81defad8ac05",
     "showTitle": false,
     "title": ""
    }
   },
   "outputs": [],
   "source": [
    "path=\"/FileStore/Bronze_layer/parquet_Employee\"\n",
    "write_file(df_csv,\"parquet\",path)"
   ]
  },
  {
   "cell_type": "markdown",
   "metadata": {
    "application/vnd.databricks.v1+cell": {
     "cellMetadata": {},
     "inputWidgets": {},
     "nuid": "d6ceb096-3108-49a7-a556-665815a5c972",
     "showTitle": false,
     "title": ""
    }
   },
   "source": [
    "Read Json to df"
   ]
  },
  {
   "cell_type": "code",
   "execution_count": 0,
   "metadata": {
    "application/vnd.databricks.v1+cell": {
     "cellMetadata": {
      "byteLimit": 2048000,
      "rowLimit": 10000
     },
     "inputWidgets": {},
     "nuid": "9334140d-9300-47b9-a143-ff3ad95b8185",
     "showTitle": false,
     "title": ""
    }
   },
   "outputs": [
    {
     "output_type": "stream",
     "name": "stdout",
     "output_type": "stream",
     "text": [
      "root\n |-- department: string (nullable = true)\n |-- id: long (nullable = true)\n |-- projects: array (nullable = true)\n |    |-- element: struct (containsNull = true)\n |    |    |-- name: string (nullable = true)\n |    |    |-- status: string (nullable = true)\n |-- salary: long (nullable = true)\n\n"
     ]
    }
   ],
   "source": [
    "path_json=\"dbfs:/FileStore/tables/sample_json_1.json\"\n",
    "df_json =read_file(\"json\",path_json,schema=schema_project,multiline=True)\n",
    "df_json.printSchema()"
   ]
  },
  {
   "cell_type": "markdown",
   "metadata": {
    "application/vnd.databricks.v1+cell": {
     "cellMetadata": {},
     "inputWidgets": {},
     "nuid": "17d17de4-cbb1-4155-a581-c2fba6ac9a99",
     "showTitle": false,
     "title": ""
    }
   },
   "source": [
    "explode json"
   ]
  },
  {
   "cell_type": "code",
   "execution_count": 0,
   "metadata": {
    "application/vnd.databricks.v1+cell": {
     "cellMetadata": {
      "byteLimit": 2048000,
      "rowLimit": 10000
     },
     "inputWidgets": {},
     "nuid": "9be8f441-5cb9-4753-bc87-0e884c549d77",
     "showTitle": false,
     "title": ""
    }
   },
   "outputs": [],
   "source": [
    "df_json_flat=explode_json(df_json)"
   ]
  },
  {
   "cell_type": "code",
   "execution_count": 0,
   "metadata": {
    "application/vnd.databricks.v1+cell": {
     "cellMetadata": {
      "byteLimit": 2048000,
      "rowLimit": 10000
     },
     "inputWidgets": {},
     "nuid": "b9659705-5221-407a-8b6b-3c00dd78b322",
     "showTitle": false,
     "title": ""
    }
   },
   "outputs": [],
   "source": [
    "path=\"/FileStore/Bronze_layer/parquet_Projects\"\n",
    "write_file(df_json_flat,\"parquet\",path)"
   ]
  },
  {
   "cell_type": "markdown",
   "metadata": {
    "application/vnd.databricks.v1+cell": {
     "cellMetadata": {},
     "inputWidgets": {},
     "nuid": "11aef71d-8c25-467e-80f1-86af9145a12c",
     "showTitle": false,
     "title": ""
    }
   },
   "source": [
    "Remane the columns"
   ]
  },
  {
   "cell_type": "code",
   "execution_count": 0,
   "metadata": {
    "application/vnd.databricks.v1+cell": {
     "cellMetadata": {
      "byteLimit": 2048000,
      "rowLimit": 10000
     },
     "inputWidgets": {},
     "nuid": "9471d7ee-fa87-4e8d-b760-36f3581b29d8",
     "showTitle": false,
     "title": ""
    }
   },
   "outputs": [],
   "source": [
    "df_csv_column_renamed=rename_all_columns_to_lowercase(df_csv)\n",
    "df_json_column_renamed=rename_all_columns_to_lowercase(df_json_flat)"
   ]
  },
  {
   "cell_type": "markdown",
   "metadata": {
    "application/vnd.databricks.v1+cell": {
     "cellMetadata": {},
     "inputWidgets": {},
     "nuid": "30da3e81-c05e-4b9a-9fa5-a0db622e2e6f",
     "showTitle": false,
     "title": ""
    }
   },
   "source": [
    "Drop duplicates and replace null"
   ]
  },
  {
   "cell_type": "code",
   "execution_count": 0,
   "metadata": {
    "application/vnd.databricks.v1+cell": {
     "cellMetadata": {
      "byteLimit": 2048000,
      "rowLimit": 10000
     },
     "inputWidgets": {},
     "nuid": "e26d7099-c3ec-4f4e-877c-8a5b69d057ce",
     "showTitle": false,
     "title": ""
    }
   },
   "outputs": [],
   "source": [
    "df_csv_dropDup_null_replaced=remove_duplicates_replace_null(df_csv_column_renamed)\n",
    "df_json_dropDup_null_replaced=remove_duplicates_replace_null(df_json_column_renamed)"
   ]
  },
  {
   "cell_type": "code",
   "execution_count": 0,
   "metadata": {
    "application/vnd.databricks.v1+cell": {
     "cellMetadata": {
      "byteLimit": 2048000,
      "rowLimit": 10000
     },
     "inputWidgets": {},
     "nuid": "c407c972-a1c5-4d03-93d1-d8cdf3bbbe2c",
     "showTitle": false,
     "title": ""
    }
   },
   "outputs": [],
   "source": [
    "path=\"/FileStore/Sliver_layer/parquet_Employee\"\n",
    "write_file(df_csv_dropDup_null_replaced,\"parquet\",path)"
   ]
  },
  {
   "cell_type": "code",
   "execution_count": 0,
   "metadata": {
    "application/vnd.databricks.v1+cell": {
     "cellMetadata": {
      "byteLimit": 2048000,
      "rowLimit": 10000
     },
     "inputWidgets": {},
     "nuid": "0833316a-823b-45a9-9167-7c089882dc16",
     "showTitle": false,
     "title": ""
    }
   },
   "outputs": [],
   "source": [
    "path=\"/FileStore/Sliver_layer/parquet_Projects\"\n",
    "write_file(df_json_dropDup_null_replaced,\"parquet\",path)"
   ]
  },
  {
   "cell_type": "markdown",
   "metadata": {
    "application/vnd.databricks.v1+cell": {
     "cellMetadata": {},
     "inputWidgets": {},
     "nuid": "0aa1542b-3ef1-47f9-9c9b-7f62f917593d",
     "showTitle": false,
     "title": ""
    }
   },
   "source": [
    "Join Table"
   ]
  },
  {
   "cell_type": "code",
   "execution_count": 0,
   "metadata": {
    "application/vnd.databricks.v1+cell": {
     "cellMetadata": {
      "byteLimit": 2048000,
      "rowLimit": 10000
     },
     "inputWidgets": {},
     "nuid": "dee38999-79e2-4c8f-82ac-3b45e0e28c94",
     "showTitle": false,
     "title": ""
    }
   },
   "outputs": [],
   "source": [
    "df_joined=join_table(df_csv_dropDup_null_replaced,df_json_dropDup_null_replaced,'id','id','outer')"
   ]
  },
  {
   "cell_type": "code",
   "execution_count": 0,
   "metadata": {
    "application/vnd.databricks.v1+cell": {
     "cellMetadata": {
      "byteLimit": 2048000,
      "rowLimit": 10000
     },
     "inputWidgets": {},
     "nuid": "c59c30bb-eedd-403e-90c1-173c15dec17d",
     "showTitle": false,
     "title": ""
    }
   },
   "outputs": [],
   "source": [
    "path=\"/FileStore/Gold_layer/parquet_Employee_Projects\"\n",
    "write_file(df_joined,\"parquet\",path)"
   ]
  },
  {
   "cell_type": "code",
   "execution_count": 0,
   "metadata": {
    "application/vnd.databricks.v1+cell": {
     "cellMetadata": {
      "byteLimit": 2048000,
      "rowLimit": 10000
     },
     "inputWidgets": {},
     "nuid": "9a34b7b4-2128-4d9f-bd25-f4c5014a087d",
     "showTitle": false,
     "title": ""
    }
   },
   "outputs": [
    {
     "output_type": "display_data",
     "data": {
      "text/html": [
       "<style scoped>\n",
       "  .table-result-container {\n",
       "    max-height: 300px;\n",
       "    overflow: auto;\n",
       "  }\n",
       "  table, th, td {\n",
       "    border: 1px solid black;\n",
       "    border-collapse: collapse;\n",
       "  }\n",
       "  th, td {\n",
       "    padding: 5px;\n",
       "  }\n",
       "  th {\n",
       "    text-align: left;\n",
       "  }\n",
       "</style><div class='table-result-container'><table class='table-result'><thead style='background-color: white'><tr><th>id</th><th>name</th><th>age</th><th>city</th><th>department</th><th>salary</th><th>status</th><th>project_name</th></tr></thead><tbody><tr><td>1</td><td>John</td><td>25</td><td>New York</td><td>Sales</td><td>50000</td><td>In Progress</td><td>Project B</td></tr><tr><td>1</td><td>John</td><td>25</td><td>New York</td><td>Sales</td><td>50000</td><td>Completed</td><td>Project A</td></tr><tr><td>2</td><td>Jane</td><td>30</td><td>Los Angeles</td><td>Marketing</td><td>60000</td><td>In Progress</td><td>Project D</td></tr><tr><td>2</td><td>Jane</td><td>30</td><td>Los Angeles</td><td>Marketing</td><td>60000</td><td>Completed</td><td>Project C</td></tr><tr><td>3</td><td>David</td><td>35</td><td>Chicago</td><td>null</td><td>null</td><td>null</td><td>null</td></tr><tr><td>4</td><td>Sarah</td><td>28</td><td>Miami</td><td>HR</td><td>55000</td><td>Completed</td><td>Project E</td></tr><tr><td>5</td><td>Michael</td><td>32</td><td>Seattle</td><td>IT</td><td>65000</td><td>In Progress</td><td>Project F</td></tr><tr><td>5</td><td>Michael</td><td>32</td><td>Seattle</td><td>IT</td><td>65000</td><td>In Progress</td><td>Project G</td></tr><tr><td>6</td><td>Sarah</td><td>28</td><td>Miami</td><td>HR</td><td>55000</td><td>Completed</td><td>Project H</td></tr><tr><td>6</td><td>Sarah</td><td>28</td><td>Miami</td><td>HR</td><td>55000</td><td>In Progress</td><td>Project I</td></tr><tr><td>7</td><td>Emma</td><td>40</td><td>San Francisco</td><td>IT</td><td>75000</td><td>Completed</td><td>Project J</td></tr><tr><td>7</td><td>Emma</td><td>40</td><td>San Francisco</td><td>IT</td><td>75000</td><td>In Progress</td><td>Project K</td></tr><tr><td>8</td><td>Brian</td><td>45</td><td>null</td><td>Finance</td><td>90000</td><td>Completed</td><td>Project L</td></tr><tr><td>8</td><td>Brian</td><td>45</td><td>null</td><td>Finance</td><td>90000</td><td>Completed</td><td>Project M</td></tr><tr><td>9</td><td>Emily</td><td>0</td><td>Null</td><td>Marketing</td><td>0</td><td>In Progress</td><td>Project N</td></tr><tr><td>10</td><td>Matthew</td><td>27</td><td>Houston</td><td>IT</td><td>80000</td><td>Completed</td><td>Project O</td></tr><tr><td>10</td><td>Matthew</td><td>27</td><td>Houston</td><td>IT</td><td>80000</td><td>In Progress</td><td>Project P</td></tr><tr><td>11</td><td>John</td><td>26</td><td>Dallas</td><td>Sales</td><td>45000</td><td>In Progress</td><td>Project Q</td></tr><tr><td>11</td><td>John</td><td>26</td><td>Dallas</td><td>Sales</td><td>45000</td><td>In Progress</td><td>Project R</td></tr><tr><td>12</td><td>Chris</td><td>31</td><td>Chicago</td><td>Marketing</td><td>70000</td><td>In Progress</td><td>Project T</td></tr><tr><td>12</td><td>Chris</td><td>31</td><td>Chicago</td><td>Marketing</td><td>70000</td><td>Completed</td><td>Project S</td></tr><tr><td>13</td><td>Amy</td><td>29</td><td>Null</td><td>null</td><td>null</td><td>null</td><td>null</td></tr><tr><td>14</td><td>Emily</td><td>27</td><td>Houston</td><td>HR</td><td>50000</td><td>Completed</td><td>Project U</td></tr><tr><td>15</td><td>Michael</td><td>32</td><td>Seattle</td><td>IT</td><td>55000</td><td>In Progress</td><td>Project V</td></tr><tr><td>15</td><td>Michael</td><td>32</td><td>Seattle</td><td>IT</td><td>55000</td><td>In Progress</td><td>Project W</td></tr><tr><td>16</td><td>Olivia</td><td>33</td><td>New York</td><td>HR</td><td>50000</td><td>Completed</td><td>Project X</td></tr><tr><td>16</td><td>Olivia</td><td>33</td><td>New York</td><td>HR</td><td>50000</td><td>In Progress</td><td>Project Y</td></tr><tr><td>17</td><td>John</td><td>25</td><td>Los Angeles</td><td>IT</td><td>75000</td><td>Completed</td><td>Project Z</td></tr><tr><td>17</td><td>John</td><td>25</td><td>Los Angeles</td><td>IT</td><td>75000</td><td>In Progress</td><td>Project A1</td></tr><tr><td>18</td><td>David</td><td>35</td><td>Chicago</td><td>Finance</td><td>80000</td><td>Completed</td><td>Project B1</td></tr><tr><td>18</td><td>David</td><td>35</td><td>Chicago</td><td>Finance</td><td>80000</td><td>Completed</td><td>Project C1</td></tr><tr><td>19</td><td>Emma</td><td>40</td><td>San Francisco</td><td>Marketing</td><td>0</td><td>In Progress</td><td>Project D1</td></tr><tr><td>20</td><td>Brian</td><td>45</td><td>null</td><td>IT</td><td>85000</td><td>In Progress</td><td>Project F1</td></tr><tr><td>20</td><td>Brian</td><td>45</td><td>null</td><td>IT</td><td>85000</td><td>Completed</td><td>Project E1</td></tr><tr><td>21</td><td>John</td><td>26</td><td>Dallas</td><td>Sales</td><td>55000</td><td>In Progress</td><td>Project G1</td></tr><tr><td>21</td><td>John</td><td>26</td><td>Dallas</td><td>Sales</td><td>55000</td><td>In Progress</td><td>Project H1</td></tr><tr><td>22</td><td>Emily</td><td>27</td><td>Houston</td><td>Marketing</td><td>65000</td><td>In Progress</td><td>Project J1</td></tr><tr><td>22</td><td>Emily</td><td>27</td><td>Houston</td><td>Marketing</td><td>65000</td><td>Completed</td><td>Project I1</td></tr><tr><td>23</td><td>Michael</td><td>32</td><td>Seattle</td><td>null</td><td>null</td><td>null</td><td>null</td></tr><tr><td>24</td><td>Alex</td><td>30</td><td>Null</td><td>HR</td><td>50000</td><td>Completed</td><td>Project K1</td></tr><tr><td>25</td><td>John</td><td>25</td><td>Los Angeles</td><td>IT</td><td>55000</td><td>In Progress</td><td>Project M1</td></tr><tr><td>25</td><td>John</td><td>25</td><td>Los Angeles</td><td>IT</td><td>55000</td><td>In Progress</td><td>Project L1</td></tr><tr><td>26</td><td>David</td><td>35</td><td>Chicago</td><td>HR</td><td>50000</td><td>Completed</td><td>Project N1</td></tr><tr><td>26</td><td>David</td><td>35</td><td>Chicago</td><td>HR</td><td>50000</td><td>In Progress</td><td>Project O1</td></tr><tr><td>27</td><td>Sarah</td><td>28</td><td>Miami</td><td>IT</td><td>75000</td><td>Completed</td><td>Project P1</td></tr><tr><td>27</td><td>Sarah</td><td>28</td><td>Miami</td><td>IT</td><td>75000</td><td>In Progress</td><td>Project Q1</td></tr><tr><td>28</td><td>Sarah</td><td>28</td><td>Miami</td><td>Finance</td><td>80000</td><td>Completed</td><td>Project R1</td></tr><tr><td>28</td><td>Sarah</td><td>28</td><td>Miami</td><td>Finance</td><td>80000</td><td>Completed</td><td>Project S1</td></tr><tr><td>29</td><td>Emma</td><td>40</td><td>San Francisco</td><td>Marketing</td><td>0</td><td>In Progress</td><td>Project T1</td></tr><tr><td>30</td><td>Brian</td><td>45</td><td>null</td><td>IT</td><td>85000</td><td>Completed</td><td>Project U1</td></tr><tr><td>30</td><td>Brian</td><td>45</td><td>null</td><td>IT</td><td>85000</td><td>In Progress</td><td>Project V1</td></tr><tr><td>31</td><td>John</td><td>26</td><td>Dallas</td><td>Sales</td><td>45000</td><td>In Progress</td><td>Project W1</td></tr><tr><td>31</td><td>John</td><td>26</td><td>Dallas</td><td>Sales</td><td>45000</td><td>In Progress</td><td>Project X1</td></tr><tr><td>32</td><td>Chris</td><td>31</td><td>Chicago</td><td>Marketing</td><td>70000</td><td>In Progress</td><td>Project Z1</td></tr><tr><td>32</td><td>Chris</td><td>31</td><td>Chicago</td><td>Marketing</td><td>70000</td><td>Completed</td><td>Project Y1</td></tr><tr><td>33</td><td>Amy</td><td>29</td><td>Null</td><td>null</td><td>null</td><td>null</td><td>null</td></tr><tr><td>34</td><td>Emily</td><td>27</td><td>Houston</td><td>HR</td><td>50000</td><td>Completed</td><td>Project A2</td></tr><tr><td>35</td><td>Michael</td><td>32</td><td>Seattle</td><td>IT</td><td>55000</td><td>In Progress</td><td>Project C2</td></tr><tr><td>35</td><td>Michael</td><td>32</td><td>Seattle</td><td>IT</td><td>55000</td><td>In Progress</td><td>Project B2</td></tr><tr><td>36</td><td>Olivia</td><td>33</td><td>New York</td><td>HR</td><td>50000</td><td>In Progress</td><td>Project E2</td></tr><tr><td>36</td><td>Olivia</td><td>33</td><td>New York</td><td>HR</td><td>50000</td><td>Completed</td><td>Project D2</td></tr><tr><td>37</td><td>John</td><td>25</td><td>Los Angeles</td><td>IT</td><td>75000</td><td>Completed</td><td>Project F2</td></tr><tr><td>37</td><td>John</td><td>25</td><td>Los Angeles</td><td>IT</td><td>75000</td><td>In Progress</td><td>Project G2</td></tr><tr><td>38</td><td>David</td><td>35</td><td>Chicago</td><td>Finance</td><td>80000</td><td>Completed</td><td>Project I2</td></tr><tr><td>38</td><td>David</td><td>35</td><td>Chicago</td><td>Finance</td><td>80000</td><td>Completed</td><td>Project H2</td></tr><tr><td>39</td><td>Emma</td><td>40</td><td>San Francisco</td><td>Marketing</td><td>0</td><td>In Progress</td><td>Project J2</td></tr><tr><td>40</td><td>Brian</td><td>45</td><td>null</td><td>IT</td><td>85000</td><td>Completed</td><td>Project K2</td></tr><tr><td>40</td><td>Brian</td><td>45</td><td>null</td><td>IT</td><td>85000</td><td>In Progress</td><td>Project L2</td></tr><tr><td>41</td><td>John</td><td>26</td><td>Dallas</td><td>Sales</td><td>55000</td><td>In Progress</td><td>Project M2</td></tr><tr><td>41</td><td>John</td><td>26</td><td>Dallas</td><td>Sales</td><td>55000</td><td>In Progress</td><td>Project N2</td></tr><tr><td>42</td><td>Emily</td><td>27</td><td>Houston</td><td>Marketing</td><td>65000</td><td>In Progress</td><td>Project P2</td></tr><tr><td>42</td><td>Emily</td><td>27</td><td>Houston</td><td>Marketing</td><td>65000</td><td>Completed</td><td>Project O2</td></tr><tr><td>43</td><td>Michael</td><td>32</td><td>Seattle</td><td>null</td><td>null</td><td>null</td><td>null</td></tr><tr><td>44</td><td>Alex</td><td>30</td><td>Null</td><td>HR</td><td>50000</td><td>Completed</td><td>Project Q2</td></tr><tr><td>45</td><td>John</td><td>25</td><td>Los Angeles</td><td>IT</td><td>55000</td><td>In Progress</td><td>Project S2</td></tr><tr><td>45</td><td>John</td><td>25</td><td>Los Angeles</td><td>IT</td><td>55000</td><td>In Progress</td><td>Project R2</td></tr><tr><td>46</td><td>David</td><td>35</td><td>Chicago</td><td>HR</td><td>50000</td><td>In Progress</td><td>Project U2</td></tr><tr><td>46</td><td>David</td><td>35</td><td>Chicago</td><td>HR</td><td>50000</td><td>Completed</td><td>Project T2</td></tr><tr><td>47</td><td>Sarah</td><td>28</td><td>Miami</td><td>IT</td><td>75000</td><td>Completed</td><td>Project V2</td></tr><tr><td>47</td><td>Sarah</td><td>28</td><td>Miami</td><td>IT</td><td>75000</td><td>In Progress</td><td>Project W2</td></tr><tr><td>48</td><td>Sarah</td><td>28</td><td>Miami</td><td>Finance</td><td>80000</td><td>Completed</td><td>Project X2</td></tr><tr><td>48</td><td>Sarah</td><td>28</td><td>Miami</td><td>Finance</td><td>80000</td><td>Completed</td><td>Project Y2</td></tr><tr><td>49</td><td>Emma</td><td>40</td><td>San Francisco</td><td>Marketing</td><td>0</td><td>In Progress</td><td>Project Z2</td></tr><tr><td>50</td><td>Brian</td><td>45</td><td>null</td><td>IT</td><td>85000</td><td>In Progress</td><td>Project B3</td></tr><tr><td>50</td><td>Brian</td><td>45</td><td>null</td><td>IT</td><td>85000</td><td>Completed</td><td>Project A3</td></tr><tr><td>51</td><td>John</td><td>26</td><td>Dallas</td><td>null</td><td>null</td><td>null</td><td>null</td></tr><tr><td>52</td><td>Chris</td><td>31</td><td>Chicago</td><td>null</td><td>null</td><td>null</td><td>null</td></tr><tr><td>53</td><td>Amy</td><td>29</td><td>Null</td><td>null</td><td>null</td><td>null</td><td>null</td></tr><tr><td>54</td><td>Emily</td><td>27</td><td>Houston</td><td>null</td><td>null</td><td>null</td><td>null</td></tr><tr><td>55</td><td>Michael</td><td>32</td><td>Seattle</td><td>null</td><td>null</td><td>null</td><td>null</td></tr><tr><td>56</td><td>Olivia</td><td>33</td><td>New York</td><td>null</td><td>null</td><td>null</td><td>null</td></tr><tr><td>57</td><td>John</td><td>25</td><td>Los Angeles</td><td>null</td><td>null</td><td>null</td><td>null</td></tr><tr><td>58</td><td>David</td><td>35</td><td>Chicago</td><td>null</td><td>null</td><td>null</td><td>null</td></tr><tr><td>59</td><td>Emma</td><td>40</td><td>San Francisco</td><td>null</td><td>null</td><td>null</td><td>null</td></tr><tr><td>60</td><td>Brian</td><td>45</td><td>null</td><td>null</td><td>null</td><td>null</td><td>null</td></tr><tr><td>61</td><td>John</td><td>26</td><td>Dallas</td><td>null</td><td>null</td><td>null</td><td>null</td></tr><tr><td>62</td><td>Emily</td><td>27</td><td>Houston</td><td>null</td><td>null</td><td>null</td><td>null</td></tr><tr><td>63</td><td>Michael</td><td>32</td><td>Seattle</td><td>null</td><td>null</td><td>null</td><td>null</td></tr><tr><td>64</td><td>Alex</td><td>30</td><td>Null</td><td>null</td><td>null</td><td>null</td><td>null</td></tr><tr><td>65</td><td>John</td><td>25</td><td>Los Angeles</td><td>null</td><td>null</td><td>null</td><td>null</td></tr><tr><td>66</td><td>David</td><td>35</td><td>Chicago</td><td>null</td><td>null</td><td>null</td><td>null</td></tr><tr><td>67</td><td>Sarah</td><td>28</td><td>Miami</td><td>null</td><td>null</td><td>null</td><td>null</td></tr><tr><td>68</td><td>Sarah</td><td>28</td><td>Miami</td><td>null</td><td>null</td><td>null</td><td>null</td></tr><tr><td>69</td><td>Emma</td><td>40</td><td>San Francisco</td><td>null</td><td>null</td><td>null</td><td>null</td></tr><tr><td>70</td><td>Brian</td><td>45</td><td>null</td><td>null</td><td>null</td><td>null</td><td>null</td></tr><tr><td>71</td><td>John</td><td>26</td><td>Dallas</td><td>null</td><td>null</td><td>null</td><td>null</td></tr><tr><td>72</td><td>Chris</td><td>31</td><td>Chicago</td><td>null</td><td>null</td><td>null</td><td>null</td></tr><tr><td>73</td><td>Amy</td><td>29</td><td>Null</td><td>null</td><td>null</td><td>null</td><td>null</td></tr><tr><td>74</td><td>Emily</td><td>27</td><td>Houston</td><td>null</td><td>null</td><td>null</td><td>null</td></tr><tr><td>75</td><td>Michael</td><td>32</td><td>Seattle</td><td>null</td><td>null</td><td>null</td><td>null</td></tr><tr><td>76</td><td>Olivia</td><td>33</td><td>New York</td><td>null</td><td>null</td><td>null</td><td>null</td></tr><tr><td>77</td><td>John</td><td>25</td><td>Los Angeles</td><td>null</td><td>null</td><td>null</td><td>null</td></tr><tr><td>78</td><td>David</td><td>35</td><td>Chicago</td><td>null</td><td>null</td><td>null</td><td>null</td></tr><tr><td>79</td><td>Emma</td><td>40</td><td>San Francisco</td><td>null</td><td>null</td><td>null</td><td>null</td></tr><tr><td>80</td><td>Brian</td><td>45</td><td>null</td><td>null</td><td>null</td><td>null</td><td>null</td></tr><tr><td>81</td><td>John</td><td>26</td><td>Dallas</td><td>null</td><td>null</td><td>null</td><td>null</td></tr><tr><td>82</td><td>Emily</td><td>27</td><td>Houston</td><td>null</td><td>null</td><td>null</td><td>null</td></tr><tr><td>83</td><td>Michael</td><td>32</td><td>Seattle</td><td>null</td><td>null</td><td>null</td><td>null</td></tr><tr><td>84</td><td>Alex</td><td>30</td><td>Null</td><td>null</td><td>null</td><td>null</td><td>null</td></tr><tr><td>85</td><td>John</td><td>25</td><td>Los Angeles</td><td>null</td><td>null</td><td>null</td><td>null</td></tr><tr><td>86</td><td>David</td><td>35</td><td>Chicago</td><td>null</td><td>null</td><td>null</td><td>null</td></tr><tr><td>87</td><td>Sarah</td><td>28</td><td>Miami</td><td>null</td><td>null</td><td>null</td><td>null</td></tr><tr><td>88</td><td>Sarah</td><td>28</td><td>Miami</td><td>null</td><td>null</td><td>null</td><td>null</td></tr><tr><td>89</td><td>Emma</td><td>40</td><td>San Francisco</td><td>null</td><td>null</td><td>null</td><td>null</td></tr><tr><td>90</td><td>Brian</td><td>45</td><td>null</td><td>null</td><td>null</td><td>null</td><td>null</td></tr><tr><td>91</td><td>John</td><td>26</td><td>Dallas</td><td>null</td><td>null</td><td>null</td><td>null</td></tr><tr><td>92</td><td>Chris</td><td>31</td><td>Chicago</td><td>null</td><td>null</td><td>null</td><td>null</td></tr></tbody></table></div>"
      ]
     },
     "metadata": {
      "application/vnd.databricks.v1+output": {
       "addedWidgets": {},
       "aggData": [],
       "aggError": "",
       "aggOverflow": false,
       "aggSchema": [],
       "aggSeriesLimitReached": false,
       "aggType": "",
       "arguments": {},
       "columnCustomDisplayInfos": {},
       "data": [
        [
         1,
         "John",
         25,
         "New York",
         "Sales",
         50000,
         "In Progress",
         "Project B"
        ],
        [
         1,
         "John",
         25,
         "New York",
         "Sales",
         50000,
         "Completed",
         "Project A"
        ],
        [
         2,
         "Jane",
         30,
         "Los Angeles",
         "Marketing",
         60000,
         "In Progress",
         "Project D"
        ],
        [
         2,
         "Jane",
         30,
         "Los Angeles",
         "Marketing",
         60000,
         "Completed",
         "Project C"
        ],
        [
         3,
         "David",
         35,
         "Chicago",
         null,
         null,
         null,
         null
        ],
        [
         4,
         "Sarah",
         28,
         "Miami",
         "HR",
         55000,
         "Completed",
         "Project E"
        ],
        [
         5,
         "Michael",
         32,
         "Seattle",
         "IT",
         65000,
         "In Progress",
         "Project F"
        ],
        [
         5,
         "Michael",
         32,
         "Seattle",
         "IT",
         65000,
         "In Progress",
         "Project G"
        ],
        [
         6,
         "Sarah",
         28,
         "Miami",
         "HR",
         55000,
         "Completed",
         "Project H"
        ],
        [
         6,
         "Sarah",
         28,
         "Miami",
         "HR",
         55000,
         "In Progress",
         "Project I"
        ],
        [
         7,
         "Emma",
         40,
         "San Francisco",
         "IT",
         75000,
         "Completed",
         "Project J"
        ],
        [
         7,
         "Emma",
         40,
         "San Francisco",
         "IT",
         75000,
         "In Progress",
         "Project K"
        ],
        [
         8,
         "Brian",
         45,
         null,
         "Finance",
         90000,
         "Completed",
         "Project L"
        ],
        [
         8,
         "Brian",
         45,
         null,
         "Finance",
         90000,
         "Completed",
         "Project M"
        ],
        [
         9,
         "Emily",
         0,
         "Null",
         "Marketing",
         0,
         "In Progress",
         "Project N"
        ],
        [
         10,
         "Matthew",
         27,
         "Houston",
         "IT",
         80000,
         "Completed",
         "Project O"
        ],
        [
         10,
         "Matthew",
         27,
         "Houston",
         "IT",
         80000,
         "In Progress",
         "Project P"
        ],
        [
         11,
         "John",
         26,
         "Dallas",
         "Sales",
         45000,
         "In Progress",
         "Project Q"
        ],
        [
         11,
         "John",
         26,
         "Dallas",
         "Sales",
         45000,
         "In Progress",
         "Project R"
        ],
        [
         12,
         "Chris",
         31,
         "Chicago",
         "Marketing",
         70000,
         "In Progress",
         "Project T"
        ],
        [
         12,
         "Chris",
         31,
         "Chicago",
         "Marketing",
         70000,
         "Completed",
         "Project S"
        ],
        [
         13,
         "Amy",
         29,
         "Null",
         null,
         null,
         null,
         null
        ],
        [
         14,
         "Emily",
         27,
         "Houston",
         "HR",
         50000,
         "Completed",
         "Project U"
        ],
        [
         15,
         "Michael",
         32,
         "Seattle",
         "IT",
         55000,
         "In Progress",
         "Project V"
        ],
        [
         15,
         "Michael",
         32,
         "Seattle",
         "IT",
         55000,
         "In Progress",
         "Project W"
        ],
        [
         16,
         "Olivia",
         33,
         "New York",
         "HR",
         50000,
         "Completed",
         "Project X"
        ],
        [
         16,
         "Olivia",
         33,
         "New York",
         "HR",
         50000,
         "In Progress",
         "Project Y"
        ],
        [
         17,
         "John",
         25,
         "Los Angeles",
         "IT",
         75000,
         "Completed",
         "Project Z"
        ],
        [
         17,
         "John",
         25,
         "Los Angeles",
         "IT",
         75000,
         "In Progress",
         "Project A1"
        ],
        [
         18,
         "David",
         35,
         "Chicago",
         "Finance",
         80000,
         "Completed",
         "Project B1"
        ],
        [
         18,
         "David",
         35,
         "Chicago",
         "Finance",
         80000,
         "Completed",
         "Project C1"
        ],
        [
         19,
         "Emma",
         40,
         "San Francisco",
         "Marketing",
         0,
         "In Progress",
         "Project D1"
        ],
        [
         20,
         "Brian",
         45,
         null,
         "IT",
         85000,
         "In Progress",
         "Project F1"
        ],
        [
         20,
         "Brian",
         45,
         null,
         "IT",
         85000,
         "Completed",
         "Project E1"
        ],
        [
         21,
         "John",
         26,
         "Dallas",
         "Sales",
         55000,
         "In Progress",
         "Project G1"
        ],
        [
         21,
         "John",
         26,
         "Dallas",
         "Sales",
         55000,
         "In Progress",
         "Project H1"
        ],
        [
         22,
         "Emily",
         27,
         "Houston",
         "Marketing",
         65000,
         "In Progress",
         "Project J1"
        ],
        [
         22,
         "Emily",
         27,
         "Houston",
         "Marketing",
         65000,
         "Completed",
         "Project I1"
        ],
        [
         23,
         "Michael",
         32,
         "Seattle",
         null,
         null,
         null,
         null
        ],
        [
         24,
         "Alex",
         30,
         "Null",
         "HR",
         50000,
         "Completed",
         "Project K1"
        ],
        [
         25,
         "John",
         25,
         "Los Angeles",
         "IT",
         55000,
         "In Progress",
         "Project M1"
        ],
        [
         25,
         "John",
         25,
         "Los Angeles",
         "IT",
         55000,
         "In Progress",
         "Project L1"
        ],
        [
         26,
         "David",
         35,
         "Chicago",
         "HR",
         50000,
         "Completed",
         "Project N1"
        ],
        [
         26,
         "David",
         35,
         "Chicago",
         "HR",
         50000,
         "In Progress",
         "Project O1"
        ],
        [
         27,
         "Sarah",
         28,
         "Miami",
         "IT",
         75000,
         "Completed",
         "Project P1"
        ],
        [
         27,
         "Sarah",
         28,
         "Miami",
         "IT",
         75000,
         "In Progress",
         "Project Q1"
        ],
        [
         28,
         "Sarah",
         28,
         "Miami",
         "Finance",
         80000,
         "Completed",
         "Project R1"
        ],
        [
         28,
         "Sarah",
         28,
         "Miami",
         "Finance",
         80000,
         "Completed",
         "Project S1"
        ],
        [
         29,
         "Emma",
         40,
         "San Francisco",
         "Marketing",
         0,
         "In Progress",
         "Project T1"
        ],
        [
         30,
         "Brian",
         45,
         null,
         "IT",
         85000,
         "Completed",
         "Project U1"
        ],
        [
         30,
         "Brian",
         45,
         null,
         "IT",
         85000,
         "In Progress",
         "Project V1"
        ],
        [
         31,
         "John",
         26,
         "Dallas",
         "Sales",
         45000,
         "In Progress",
         "Project W1"
        ],
        [
         31,
         "John",
         26,
         "Dallas",
         "Sales",
         45000,
         "In Progress",
         "Project X1"
        ],
        [
         32,
         "Chris",
         31,
         "Chicago",
         "Marketing",
         70000,
         "In Progress",
         "Project Z1"
        ],
        [
         32,
         "Chris",
         31,
         "Chicago",
         "Marketing",
         70000,
         "Completed",
         "Project Y1"
        ],
        [
         33,
         "Amy",
         29,
         "Null",
         null,
         null,
         null,
         null
        ],
        [
         34,
         "Emily",
         27,
         "Houston",
         "HR",
         50000,
         "Completed",
         "Project A2"
        ],
        [
         35,
         "Michael",
         32,
         "Seattle",
         "IT",
         55000,
         "In Progress",
         "Project C2"
        ],
        [
         35,
         "Michael",
         32,
         "Seattle",
         "IT",
         55000,
         "In Progress",
         "Project B2"
        ],
        [
         36,
         "Olivia",
         33,
         "New York",
         "HR",
         50000,
         "In Progress",
         "Project E2"
        ],
        [
         36,
         "Olivia",
         33,
         "New York",
         "HR",
         50000,
         "Completed",
         "Project D2"
        ],
        [
         37,
         "John",
         25,
         "Los Angeles",
         "IT",
         75000,
         "Completed",
         "Project F2"
        ],
        [
         37,
         "John",
         25,
         "Los Angeles",
         "IT",
         75000,
         "In Progress",
         "Project G2"
        ],
        [
         38,
         "David",
         35,
         "Chicago",
         "Finance",
         80000,
         "Completed",
         "Project I2"
        ],
        [
         38,
         "David",
         35,
         "Chicago",
         "Finance",
         80000,
         "Completed",
         "Project H2"
        ],
        [
         39,
         "Emma",
         40,
         "San Francisco",
         "Marketing",
         0,
         "In Progress",
         "Project J2"
        ],
        [
         40,
         "Brian",
         45,
         null,
         "IT",
         85000,
         "Completed",
         "Project K2"
        ],
        [
         40,
         "Brian",
         45,
         null,
         "IT",
         85000,
         "In Progress",
         "Project L2"
        ],
        [
         41,
         "John",
         26,
         "Dallas",
         "Sales",
         55000,
         "In Progress",
         "Project M2"
        ],
        [
         41,
         "John",
         26,
         "Dallas",
         "Sales",
         55000,
         "In Progress",
         "Project N2"
        ],
        [
         42,
         "Emily",
         27,
         "Houston",
         "Marketing",
         65000,
         "In Progress",
         "Project P2"
        ],
        [
         42,
         "Emily",
         27,
         "Houston",
         "Marketing",
         65000,
         "Completed",
         "Project O2"
        ],
        [
         43,
         "Michael",
         32,
         "Seattle",
         null,
         null,
         null,
         null
        ],
        [
         44,
         "Alex",
         30,
         "Null",
         "HR",
         50000,
         "Completed",
         "Project Q2"
        ],
        [
         45,
         "John",
         25,
         "Los Angeles",
         "IT",
         55000,
         "In Progress",
         "Project S2"
        ],
        [
         45,
         "John",
         25,
         "Los Angeles",
         "IT",
         55000,
         "In Progress",
         "Project R2"
        ],
        [
         46,
         "David",
         35,
         "Chicago",
         "HR",
         50000,
         "In Progress",
         "Project U2"
        ],
        [
         46,
         "David",
         35,
         "Chicago",
         "HR",
         50000,
         "Completed",
         "Project T2"
        ],
        [
         47,
         "Sarah",
         28,
         "Miami",
         "IT",
         75000,
         "Completed",
         "Project V2"
        ],
        [
         47,
         "Sarah",
         28,
         "Miami",
         "IT",
         75000,
         "In Progress",
         "Project W2"
        ],
        [
         48,
         "Sarah",
         28,
         "Miami",
         "Finance",
         80000,
         "Completed",
         "Project X2"
        ],
        [
         48,
         "Sarah",
         28,
         "Miami",
         "Finance",
         80000,
         "Completed",
         "Project Y2"
        ],
        [
         49,
         "Emma",
         40,
         "San Francisco",
         "Marketing",
         0,
         "In Progress",
         "Project Z2"
        ],
        [
         50,
         "Brian",
         45,
         null,
         "IT",
         85000,
         "In Progress",
         "Project B3"
        ],
        [
         50,
         "Brian",
         45,
         null,
         "IT",
         85000,
         "Completed",
         "Project A3"
        ],
        [
         51,
         "John",
         26,
         "Dallas",
         null,
         null,
         null,
         null
        ],
        [
         52,
         "Chris",
         31,
         "Chicago",
         null,
         null,
         null,
         null
        ],
        [
         53,
         "Amy",
         29,
         "Null",
         null,
         null,
         null,
         null
        ],
        [
         54,
         "Emily",
         27,
         "Houston",
         null,
         null,
         null,
         null
        ],
        [
         55,
         "Michael",
         32,
         "Seattle",
         null,
         null,
         null,
         null
        ],
        [
         56,
         "Olivia",
         33,
         "New York",
         null,
         null,
         null,
         null
        ],
        [
         57,
         "John",
         25,
         "Los Angeles",
         null,
         null,
         null,
         null
        ],
        [
         58,
         "David",
         35,
         "Chicago",
         null,
         null,
         null,
         null
        ],
        [
         59,
         "Emma",
         40,
         "San Francisco",
         null,
         null,
         null,
         null
        ],
        [
         60,
         "Brian",
         45,
         null,
         null,
         null,
         null,
         null
        ],
        [
         61,
         "John",
         26,
         "Dallas",
         null,
         null,
         null,
         null
        ],
        [
         62,
         "Emily",
         27,
         "Houston",
         null,
         null,
         null,
         null
        ],
        [
         63,
         "Michael",
         32,
         "Seattle",
         null,
         null,
         null,
         null
        ],
        [
         64,
         "Alex",
         30,
         "Null",
         null,
         null,
         null,
         null
        ],
        [
         65,
         "John",
         25,
         "Los Angeles",
         null,
         null,
         null,
         null
        ],
        [
         66,
         "David",
         35,
         "Chicago",
         null,
         null,
         null,
         null
        ],
        [
         67,
         "Sarah",
         28,
         "Miami",
         null,
         null,
         null,
         null
        ],
        [
         68,
         "Sarah",
         28,
         "Miami",
         null,
         null,
         null,
         null
        ],
        [
         69,
         "Emma",
         40,
         "San Francisco",
         null,
         null,
         null,
         null
        ],
        [
         70,
         "Brian",
         45,
         null,
         null,
         null,
         null,
         null
        ],
        [
         71,
         "John",
         26,
         "Dallas",
         null,
         null,
         null,
         null
        ],
        [
         72,
         "Chris",
         31,
         "Chicago",
         null,
         null,
         null,
         null
        ],
        [
         73,
         "Amy",
         29,
         "Null",
         null,
         null,
         null,
         null
        ],
        [
         74,
         "Emily",
         27,
         "Houston",
         null,
         null,
         null,
         null
        ],
        [
         75,
         "Michael",
         32,
         "Seattle",
         null,
         null,
         null,
         null
        ],
        [
         76,
         "Olivia",
         33,
         "New York",
         null,
         null,
         null,
         null
        ],
        [
         77,
         "John",
         25,
         "Los Angeles",
         null,
         null,
         null,
         null
        ],
        [
         78,
         "David",
         35,
         "Chicago",
         null,
         null,
         null,
         null
        ],
        [
         79,
         "Emma",
         40,
         "San Francisco",
         null,
         null,
         null,
         null
        ],
        [
         80,
         "Brian",
         45,
         null,
         null,
         null,
         null,
         null
        ],
        [
         81,
         "John",
         26,
         "Dallas",
         null,
         null,
         null,
         null
        ],
        [
         82,
         "Emily",
         27,
         "Houston",
         null,
         null,
         null,
         null
        ],
        [
         83,
         "Michael",
         32,
         "Seattle",
         null,
         null,
         null,
         null
        ],
        [
         84,
         "Alex",
         30,
         "Null",
         null,
         null,
         null,
         null
        ],
        [
         85,
         "John",
         25,
         "Los Angeles",
         null,
         null,
         null,
         null
        ],
        [
         86,
         "David",
         35,
         "Chicago",
         null,
         null,
         null,
         null
        ],
        [
         87,
         "Sarah",
         28,
         "Miami",
         null,
         null,
         null,
         null
        ],
        [
         88,
         "Sarah",
         28,
         "Miami",
         null,
         null,
         null,
         null
        ],
        [
         89,
         "Emma",
         40,
         "San Francisco",
         null,
         null,
         null,
         null
        ],
        [
         90,
         "Brian",
         45,
         null,
         null,
         null,
         null,
         null
        ],
        [
         91,
         "John",
         26,
         "Dallas",
         null,
         null,
         null,
         null
        ],
        [
         92,
         "Chris",
         31,
         "Chicago",
         null,
         null,
         null,
         null
        ]
       ],
       "datasetInfos": [],
       "dbfsResultPath": null,
       "isJsonSchema": true,
       "metadata": {},
       "overflow": false,
       "plotOptions": {
        "customPlotOptions": {},
        "displayType": "table",
        "pivotAggregation": null,
        "pivotColumns": null,
        "xColumns": null,
        "yColumns": null
       },
       "removedWidgets": [],
       "schema": [
        {
         "metadata": "{}",
         "name": "id",
         "type": "\"integer\""
        },
        {
         "metadata": "{}",
         "name": "name",
         "type": "\"string\""
        },
        {
         "metadata": "{}",
         "name": "age",
         "type": "\"integer\""
        },
        {
         "metadata": "{}",
         "name": "city",
         "type": "\"string\""
        },
        {
         "metadata": "{}",
         "name": "department",
         "type": "\"string\""
        },
        {
         "metadata": "{}",
         "name": "salary",
         "type": "\"long\""
        },
        {
         "metadata": "{}",
         "name": "status",
         "type": "\"string\""
        },
        {
         "metadata": "{}",
         "name": "project_name",
         "type": "\"string\""
        }
       ],
       "type": "table"
      }
     },
     "output_type": "display_data"
    }
   ],
   "source": [
    "display(df_joined)"
   ]
  },
  {
   "cell_type": "markdown",
   "metadata": {
    "application/vnd.databricks.v1+cell": {
     "cellMetadata": {},
     "inputWidgets": {},
     "nuid": "506505df-40c3-4255-a5af-22c02261555e",
     "showTitle": false,
     "title": ""
    }
   },
   "source": [
    "Deleate records"
   ]
  },
  {
   "cell_type": "code",
   "execution_count": 0,
   "metadata": {
    "application/vnd.databricks.v1+cell": {
     "cellMetadata": {
      "byteLimit": 2048000,
      "rowLimit": 10000
     },
     "inputWidgets": {},
     "nuid": "df76aa18-5fea-4410-8aed-31929fa0a0ec",
     "showTitle": false,
     "title": ""
    }
   },
   "outputs": [
    {
     "output_type": "display_data",
     "data": {
      "text/html": [
       "<style scoped>\n",
       "  .table-result-container {\n",
       "    max-height: 300px;\n",
       "    overflow: auto;\n",
       "  }\n",
       "  table, th, td {\n",
       "    border: 1px solid black;\n",
       "    border-collapse: collapse;\n",
       "  }\n",
       "  th, td {\n",
       "    padding: 5px;\n",
       "  }\n",
       "  th {\n",
       "    text-align: left;\n",
       "  }\n",
       "</style><div class='table-result-container'><table class='table-result'><thead style='background-color: white'><tr><th>id</th><th>name</th><th>age</th><th>city</th><th>department</th><th>salary</th><th>status</th><th>project_name</th></tr></thead><tbody><tr><td>58</td><td>David</td><td>35</td><td>Chicago</td><td>null</td><td>null</td><td>null</td><td>null</td></tr><tr><td>12</td><td>Chris</td><td>31</td><td>Chicago</td><td>Marketing</td><td>70000</td><td>Completed</td><td>Project S</td></tr><tr><td>12</td><td>Chris</td><td>31</td><td>Chicago</td><td>Marketing</td><td>70000</td><td>In Progress</td><td>Project T</td></tr><tr><td>21</td><td>John</td><td>26</td><td>Dallas</td><td>Sales</td><td>55000</td><td>In Progress</td><td>Project H1</td></tr><tr><td>21</td><td>John</td><td>26</td><td>Dallas</td><td>Sales</td><td>55000</td><td>In Progress</td><td>Project G1</td></tr><tr><td>26</td><td>David</td><td>35</td><td>Chicago</td><td>HR</td><td>50000</td><td>In Progress</td><td>Project O1</td></tr><tr><td>26</td><td>David</td><td>35</td><td>Chicago</td><td>HR</td><td>50000</td><td>Completed</td><td>Project N1</td></tr><tr><td>48</td><td>Sarah</td><td>28</td><td>Miami</td><td>Finance</td><td>80000</td><td>Completed</td><td>Project Y2</td></tr><tr><td>48</td><td>Sarah</td><td>28</td><td>Miami</td><td>Finance</td><td>80000</td><td>Completed</td><td>Project X2</td></tr><tr><td>54</td><td>Emily</td><td>27</td><td>Houston</td><td>null</td><td>null</td><td>null</td><td>null</td></tr><tr><td>68</td><td>Sarah</td><td>28</td><td>Miami</td><td>null</td><td>null</td><td>null</td><td>null</td></tr><tr><td>35</td><td>Michael</td><td>32</td><td>Seattle</td><td>IT</td><td>55000</td><td>In Progress</td><td>Project B2</td></tr><tr><td>35</td><td>Michael</td><td>32</td><td>Seattle</td><td>IT</td><td>55000</td><td>In Progress</td><td>Project C2</td></tr><tr><td>85</td><td>John</td><td>25</td><td>Los Angeles</td><td>null</td><td>null</td><td>null</td><td>null</td></tr><tr><td>41</td><td>John</td><td>26</td><td>Dallas</td><td>Sales</td><td>55000</td><td>In Progress</td><td>Project N2</td></tr><tr><td>41</td><td>John</td><td>26</td><td>Dallas</td><td>Sales</td><td>55000</td><td>In Progress</td><td>Project M2</td></tr><tr><td>63</td><td>Michael</td><td>32</td><td>Seattle</td><td>null</td><td>null</td><td>null</td><td>null</td></tr><tr><td>74</td><td>Emily</td><td>27</td><td>Houston</td><td>null</td><td>null</td><td>null</td><td>null</td></tr><tr><td>6</td><td>Sarah</td><td>28</td><td>Miami</td><td>HR</td><td>55000</td><td>In Progress</td><td>Project I</td></tr><tr><td>6</td><td>Sarah</td><td>28</td><td>Miami</td><td>HR</td><td>55000</td><td>Completed</td><td>Project H</td></tr><tr><td>33</td><td>Amy</td><td>29</td><td>Null</td><td>null</td><td>null</td><td>null</td><td>null</td></tr><tr><td>45</td><td>John</td><td>25</td><td>Los Angeles</td><td>IT</td><td>55000</td><td>In Progress</td><td>Project R2</td></tr><tr><td>45</td><td>John</td><td>25</td><td>Los Angeles</td><td>IT</td><td>55000</td><td>In Progress</td><td>Project S2</td></tr><tr><td>92</td><td>Chris</td><td>31</td><td>Chicago</td><td>null</td><td>null</td><td>null</td><td>null</td></tr><tr><td>61</td><td>John</td><td>26</td><td>Dallas</td><td>null</td><td>null</td><td>null</td><td>null</td></tr><tr><td>60</td><td>Brian</td><td>45</td><td>null</td><td>null</td><td>null</td><td>null</td><td>null</td></tr><tr><td>67</td><td>Sarah</td><td>28</td><td>Miami</td><td>null</td><td>null</td><td>null</td><td>null</td></tr><tr><td>18</td><td>David</td><td>35</td><td>Chicago</td><td>Finance</td><td>80000</td><td>Completed</td><td>Project C1</td></tr><tr><td>18</td><td>David</td><td>35</td><td>Chicago</td><td>Finance</td><td>80000</td><td>Completed</td><td>Project B1</td></tr><tr><td>87</td><td>Sarah</td><td>28</td><td>Miami</td><td>null</td><td>null</td><td>null</td><td>null</td></tr><tr><td>50</td><td>Brian</td><td>45</td><td>null</td><td>IT</td><td>85000</td><td>Completed</td><td>Project A3</td></tr><tr><td>50</td><td>Brian</td><td>45</td><td>null</td><td>IT</td><td>85000</td><td>In Progress</td><td>Project B3</td></tr><tr><td>64</td><td>Alex</td><td>30</td><td>Null</td><td>null</td><td>null</td><td>null</td><td>null</td></tr><tr><td>71</td><td>John</td><td>26</td><td>Dallas</td><td>null</td><td>null</td><td>null</td><td>null</td></tr><tr><td>42</td><td>Emily</td><td>27</td><td>Houston</td><td>Marketing</td><td>65000</td><td>Completed</td><td>Project O2</td></tr><tr><td>42</td><td>Emily</td><td>27</td><td>Houston</td><td>Marketing</td><td>65000</td><td>In Progress</td><td>Project P2</td></tr><tr><td>38</td><td>David</td><td>35</td><td>Chicago</td><td>Finance</td><td>80000</td><td>Completed</td><td>Project H2</td></tr><tr><td>38</td><td>David</td><td>35</td><td>Chicago</td><td>Finance</td><td>80000</td><td>Completed</td><td>Project I2</td></tr><tr><td>24</td><td>Alex</td><td>30</td><td>Null</td><td>HR</td><td>50000</td><td>Completed</td><td>Project K1</td></tr><tr><td>79</td><td>Emma</td><td>40</td><td>San Francisco</td><td>null</td><td>null</td><td>null</td><td>null</td></tr><tr><td>47</td><td>Sarah</td><td>28</td><td>Miami</td><td>IT</td><td>75000</td><td>In Progress</td><td>Project W2</td></tr><tr><td>47</td><td>Sarah</td><td>28</td><td>Miami</td><td>IT</td><td>75000</td><td>Completed</td><td>Project V2</td></tr><tr><td>23</td><td>Michael</td><td>32</td><td>Seattle</td><td>null</td><td>null</td><td>null</td><td>null</td></tr><tr><td>11</td><td>John</td><td>26</td><td>Dallas</td><td>Sales</td><td>45000</td><td>In Progress</td><td>Project R</td></tr><tr><td>11</td><td>John</td><td>26</td><td>Dallas</td><td>Sales</td><td>45000</td><td>In Progress</td><td>Project Q</td></tr><tr><td>75</td><td>Michael</td><td>32</td><td>Seattle</td><td>null</td><td>null</td><td>null</td><td>null</td></tr><tr><td>32</td><td>Chris</td><td>31</td><td>Chicago</td><td>Marketing</td><td>70000</td><td>Completed</td><td>Project Y1</td></tr><tr><td>32</td><td>Chris</td><td>31</td><td>Chicago</td><td>Marketing</td><td>70000</td><td>In Progress</td><td>Project Z1</td></tr><tr><td>1</td><td>John</td><td>25</td><td>New York</td><td>Sales</td><td>50000</td><td>Completed</td><td>Project A</td></tr><tr><td>1</td><td>John</td><td>25</td><td>New York</td><td>Sales</td><td>50000</td><td>In Progress</td><td>Project B</td></tr><tr><td>56</td><td>Olivia</td><td>33</td><td>New York</td><td>null</td><td>null</td><td>null</td><td>null</td></tr><tr><td>8</td><td>Brian</td><td>45</td><td>null</td><td>Finance</td><td>90000</td><td>Completed</td><td>Project M</td></tr><tr><td>8</td><td>Brian</td><td>45</td><td>null</td><td>Finance</td><td>90000</td><td>Completed</td><td>Project L</td></tr><tr><td>5</td><td>Michael</td><td>32</td><td>Seattle</td><td>IT</td><td>65000</td><td>In Progress</td><td>Project G</td></tr><tr><td>5</td><td>Michael</td><td>32</td><td>Seattle</td><td>IT</td><td>65000</td><td>In Progress</td><td>Project F</td></tr><tr><td>86</td><td>David</td><td>35</td><td>Chicago</td><td>null</td><td>null</td><td>null</td><td>null</td></tr><tr><td>78</td><td>David</td><td>35</td><td>Chicago</td><td>null</td><td>null</td><td>null</td><td>null</td></tr><tr><td>84</td><td>Alex</td><td>30</td><td>Null</td><td>null</td><td>null</td><td>null</td><td>null</td></tr><tr><td>49</td><td>Emma</td><td>40</td><td>San Francisco</td><td>Marketing</td><td>0</td><td>In Progress</td><td>Project Z2</td></tr><tr><td>73</td><td>Amy</td><td>29</td><td>Null</td><td>null</td><td>null</td><td>null</td><td>null</td></tr><tr><td>16</td><td>Olivia</td><td>33</td><td>New York</td><td>HR</td><td>50000</td><td>In Progress</td><td>Project Y</td></tr><tr><td>16</td><td>Olivia</td><td>33</td><td>New York</td><td>HR</td><td>50000</td><td>Completed</td><td>Project X</td></tr><tr><td>30</td><td>Brian</td><td>45</td><td>null</td><td>IT</td><td>85000</td><td>In Progress</td><td>Project V1</td></tr><tr><td>30</td><td>Brian</td><td>45</td><td>null</td><td>IT</td><td>85000</td><td>Completed</td><td>Project U1</td></tr><tr><td>9</td><td>Emily</td><td>0</td><td>Null</td><td>Marketing</td><td>0</td><td>In Progress</td><td>Project N</td></tr><tr><td>65</td><td>John</td><td>25</td><td>Los Angeles</td><td>null</td><td>null</td><td>null</td><td>null</td></tr><tr><td>70</td><td>Brian</td><td>45</td><td>null</td><td>null</td><td>null</td><td>null</td><td>null</td></tr><tr><td>4</td><td>Sarah</td><td>28</td><td>Miami</td><td>HR</td><td>55000</td><td>Completed</td><td>Project E</td></tr><tr><td>72</td><td>Chris</td><td>31</td><td>Chicago</td><td>null</td><td>null</td><td>null</td><td>null</td></tr><tr><td>88</td><td>Sarah</td><td>28</td><td>Miami</td><td>null</td><td>null</td><td>null</td><td>null</td></tr><tr><td>90</td><td>Brian</td><td>45</td><td>null</td><td>null</td><td>null</td><td>null</td><td>null</td></tr><tr><td>10</td><td>Matthew</td><td>27</td><td>Houston</td><td>IT</td><td>80000</td><td>In Progress</td><td>Project P</td></tr><tr><td>10</td><td>Matthew</td><td>27</td><td>Houston</td><td>IT</td><td>80000</td><td>Completed</td><td>Project O</td></tr><tr><td>22</td><td>Emily</td><td>27</td><td>Houston</td><td>Marketing</td><td>65000</td><td>Completed</td><td>Project I1</td></tr><tr><td>22</td><td>Emily</td><td>27</td><td>Houston</td><td>Marketing</td><td>65000</td><td>In Progress</td><td>Project J1</td></tr><tr><td>82</td><td>Emily</td><td>27</td><td>Houston</td><td>null</td><td>null</td><td>null</td><td>null</td></tr><tr><td>20</td><td>Brian</td><td>45</td><td>null</td><td>IT</td><td>85000</td><td>Completed</td><td>Project E1</td></tr><tr><td>20</td><td>Brian</td><td>45</td><td>null</td><td>IT</td><td>85000</td><td>In Progress</td><td>Project F1</td></tr><tr><td>2</td><td>Jane</td><td>30</td><td>Los Angeles</td><td>Marketing</td><td>60000</td><td>Completed</td><td>Project C</td></tr><tr><td>2</td><td>Jane</td><td>30</td><td>Los Angeles</td><td>Marketing</td><td>60000</td><td>In Progress</td><td>Project D</td></tr><tr><td>34</td><td>Emily</td><td>27</td><td>Houston</td><td>HR</td><td>50000</td><td>Completed</td><td>Project A2</td></tr><tr><td>89</td><td>Emma</td><td>40</td><td>San Francisco</td><td>null</td><td>null</td><td>null</td><td>null</td></tr><tr><td>37</td><td>John</td><td>25</td><td>Los Angeles</td><td>IT</td><td>75000</td><td>In Progress</td><td>Project G2</td></tr><tr><td>37</td><td>John</td><td>25</td><td>Los Angeles</td><td>IT</td><td>75000</td><td>Completed</td><td>Project F2</td></tr><tr><td>39</td><td>Emma</td><td>40</td><td>San Francisco</td><td>Marketing</td><td>0</td><td>In Progress</td><td>Project J2</td></tr><tr><td>55</td><td>Michael</td><td>32</td><td>Seattle</td><td>null</td><td>null</td><td>null</td><td>null</td></tr><tr><td>76</td><td>Olivia</td><td>33</td><td>New York</td><td>null</td><td>null</td><td>null</td><td>null</td></tr><tr><td>17</td><td>John</td><td>25</td><td>Los Angeles</td><td>IT</td><td>75000</td><td>In Progress</td><td>Project A1</td></tr><tr><td>17</td><td>John</td><td>25</td><td>Los Angeles</td><td>IT</td><td>75000</td><td>Completed</td><td>Project Z</td></tr><tr><td>69</td><td>Emma</td><td>40</td><td>San Francisco</td><td>null</td><td>null</td><td>null</td><td>null</td></tr><tr><td>59</td><td>Emma</td><td>40</td><td>San Francisco</td><td>null</td><td>null</td><td>null</td><td>null</td></tr><tr><td>51</td><td>John</td><td>26</td><td>Dallas</td><td>null</td><td>null</td><td>null</td><td>null</td></tr><tr><td>83</td><td>Michael</td><td>32</td><td>Seattle</td><td>null</td><td>null</td><td>null</td><td>null</td></tr><tr><td>57</td><td>John</td><td>25</td><td>Los Angeles</td><td>null</td><td>null</td><td>null</td><td>null</td></tr><tr><td>53</td><td>Amy</td><td>29</td><td>Null</td><td>null</td><td>null</td><td>null</td><td>null</td></tr><tr><td>80</td><td>Brian</td><td>45</td><td>null</td><td>null</td><td>null</td><td>null</td><td>null</td></tr><tr><td>62</td><td>Emily</td><td>27</td><td>Houston</td><td>null</td><td>null</td><td>null</td><td>null</td></tr><tr><td>46</td><td>David</td><td>35</td><td>Chicago</td><td>HR</td><td>50000</td><td>Completed</td><td>Project T2</td></tr><tr><td>46</td><td>David</td><td>35</td><td>Chicago</td><td>HR</td><td>50000</td><td>In Progress</td><td>Project U2</td></tr><tr><td>91</td><td>John</td><td>26</td><td>Dallas</td><td>null</td><td>null</td><td>null</td><td>null</td></tr><tr><td>13</td><td>Amy</td><td>29</td><td>Null</td><td>null</td><td>null</td><td>null</td><td>null</td></tr><tr><td>43</td><td>Michael</td><td>32</td><td>Seattle</td><td>null</td><td>null</td><td>null</td><td>null</td></tr><tr><td>52</td><td>Chris</td><td>31</td><td>Chicago</td><td>null</td><td>null</td><td>null</td><td>null</td></tr><tr><td>19</td><td>Emma</td><td>40</td><td>San Francisco</td><td>Marketing</td><td>0</td><td>In Progress</td><td>Project D1</td></tr><tr><td>36</td><td>Olivia</td><td>33</td><td>New York</td><td>HR</td><td>50000</td><td>Completed</td><td>Project D2</td></tr><tr><td>36</td><td>Olivia</td><td>33</td><td>New York</td><td>HR</td><td>50000</td><td>In Progress</td><td>Project E2</td></tr><tr><td>44</td><td>Alex</td><td>30</td><td>Null</td><td>HR</td><td>50000</td><td>Completed</td><td>Project Q2</td></tr><tr><td>14</td><td>Emily</td><td>27</td><td>Houston</td><td>HR</td><td>50000</td><td>Completed</td><td>Project U</td></tr><tr><td>29</td><td>Emma</td><td>40</td><td>San Francisco</td><td>Marketing</td><td>0</td><td>In Progress</td><td>Project T1</td></tr><tr><td>81</td><td>John</td><td>26</td><td>Dallas</td><td>null</td><td>null</td><td>null</td><td>null</td></tr><tr><td>66</td><td>David</td><td>35</td><td>Chicago</td><td>null</td><td>null</td><td>null</td><td>null</td></tr><tr><td>3</td><td>David</td><td>35</td><td>Chicago</td><td>null</td><td>null</td><td>null</td><td>null</td></tr><tr><td>25</td><td>John</td><td>25</td><td>Los Angeles</td><td>IT</td><td>55000</td><td>In Progress</td><td>Project L1</td></tr><tr><td>25</td><td>John</td><td>25</td><td>Los Angeles</td><td>IT</td><td>55000</td><td>In Progress</td><td>Project M1</td></tr><tr><td>27</td><td>Sarah</td><td>28</td><td>Miami</td><td>IT</td><td>75000</td><td>In Progress</td><td>Project Q1</td></tr><tr><td>27</td><td>Sarah</td><td>28</td><td>Miami</td><td>IT</td><td>75000</td><td>Completed</td><td>Project P1</td></tr><tr><td>77</td><td>John</td><td>25</td><td>Los Angeles</td><td>null</td><td>null</td><td>null</td><td>null</td></tr><tr><td>28</td><td>Sarah</td><td>28</td><td>Miami</td><td>Finance</td><td>80000</td><td>Completed</td><td>Project S1</td></tr><tr><td>28</td><td>Sarah</td><td>28</td><td>Miami</td><td>Finance</td><td>80000</td><td>Completed</td><td>Project R1</td></tr></tbody></table></div>"
      ]
     },
     "metadata": {
      "application/vnd.databricks.v1+output": {
       "addedWidgets": {},
       "aggData": [],
       "aggError": "",
       "aggOverflow": false,
       "aggSchema": [],
       "aggSeriesLimitReached": false,
       "aggType": "",
       "arguments": {},
       "columnCustomDisplayInfos": {},
       "data": [
        [
         58,
         "David",
         35,
         "Chicago",
         null,
         null,
         null,
         null
        ],
        [
         12,
         "Chris",
         31,
         "Chicago",
         "Marketing",
         70000,
         "Completed",
         "Project S"
        ],
        [
         12,
         "Chris",
         31,
         "Chicago",
         "Marketing",
         70000,
         "In Progress",
         "Project T"
        ],
        [
         21,
         "John",
         26,
         "Dallas",
         "Sales",
         55000,
         "In Progress",
         "Project H1"
        ],
        [
         21,
         "John",
         26,
         "Dallas",
         "Sales",
         55000,
         "In Progress",
         "Project G1"
        ],
        [
         26,
         "David",
         35,
         "Chicago",
         "HR",
         50000,
         "In Progress",
         "Project O1"
        ],
        [
         26,
         "David",
         35,
         "Chicago",
         "HR",
         50000,
         "Completed",
         "Project N1"
        ],
        [
         48,
         "Sarah",
         28,
         "Miami",
         "Finance",
         80000,
         "Completed",
         "Project Y2"
        ],
        [
         48,
         "Sarah",
         28,
         "Miami",
         "Finance",
         80000,
         "Completed",
         "Project X2"
        ],
        [
         54,
         "Emily",
         27,
         "Houston",
         null,
         null,
         null,
         null
        ],
        [
         68,
         "Sarah",
         28,
         "Miami",
         null,
         null,
         null,
         null
        ],
        [
         35,
         "Michael",
         32,
         "Seattle",
         "IT",
         55000,
         "In Progress",
         "Project B2"
        ],
        [
         35,
         "Michael",
         32,
         "Seattle",
         "IT",
         55000,
         "In Progress",
         "Project C2"
        ],
        [
         85,
         "John",
         25,
         "Los Angeles",
         null,
         null,
         null,
         null
        ],
        [
         41,
         "John",
         26,
         "Dallas",
         "Sales",
         55000,
         "In Progress",
         "Project N2"
        ],
        [
         41,
         "John",
         26,
         "Dallas",
         "Sales",
         55000,
         "In Progress",
         "Project M2"
        ],
        [
         63,
         "Michael",
         32,
         "Seattle",
         null,
         null,
         null,
         null
        ],
        [
         74,
         "Emily",
         27,
         "Houston",
         null,
         null,
         null,
         null
        ],
        [
         6,
         "Sarah",
         28,
         "Miami",
         "HR",
         55000,
         "In Progress",
         "Project I"
        ],
        [
         6,
         "Sarah",
         28,
         "Miami",
         "HR",
         55000,
         "Completed",
         "Project H"
        ],
        [
         33,
         "Amy",
         29,
         "Null",
         null,
         null,
         null,
         null
        ],
        [
         45,
         "John",
         25,
         "Los Angeles",
         "IT",
         55000,
         "In Progress",
         "Project R2"
        ],
        [
         45,
         "John",
         25,
         "Los Angeles",
         "IT",
         55000,
         "In Progress",
         "Project S2"
        ],
        [
         92,
         "Chris",
         31,
         "Chicago",
         null,
         null,
         null,
         null
        ],
        [
         61,
         "John",
         26,
         "Dallas",
         null,
         null,
         null,
         null
        ],
        [
         60,
         "Brian",
         45,
         null,
         null,
         null,
         null,
         null
        ],
        [
         67,
         "Sarah",
         28,
         "Miami",
         null,
         null,
         null,
         null
        ],
        [
         18,
         "David",
         35,
         "Chicago",
         "Finance",
         80000,
         "Completed",
         "Project C1"
        ],
        [
         18,
         "David",
         35,
         "Chicago",
         "Finance",
         80000,
         "Completed",
         "Project B1"
        ],
        [
         87,
         "Sarah",
         28,
         "Miami",
         null,
         null,
         null,
         null
        ],
        [
         50,
         "Brian",
         45,
         null,
         "IT",
         85000,
         "Completed",
         "Project A3"
        ],
        [
         50,
         "Brian",
         45,
         null,
         "IT",
         85000,
         "In Progress",
         "Project B3"
        ],
        [
         64,
         "Alex",
         30,
         "Null",
         null,
         null,
         null,
         null
        ],
        [
         71,
         "John",
         26,
         "Dallas",
         null,
         null,
         null,
         null
        ],
        [
         42,
         "Emily",
         27,
         "Houston",
         "Marketing",
         65000,
         "Completed",
         "Project O2"
        ],
        [
         42,
         "Emily",
         27,
         "Houston",
         "Marketing",
         65000,
         "In Progress",
         "Project P2"
        ],
        [
         38,
         "David",
         35,
         "Chicago",
         "Finance",
         80000,
         "Completed",
         "Project H2"
        ],
        [
         38,
         "David",
         35,
         "Chicago",
         "Finance",
         80000,
         "Completed",
         "Project I2"
        ],
        [
         24,
         "Alex",
         30,
         "Null",
         "HR",
         50000,
         "Completed",
         "Project K1"
        ],
        [
         79,
         "Emma",
         40,
         "San Francisco",
         null,
         null,
         null,
         null
        ],
        [
         47,
         "Sarah",
         28,
         "Miami",
         "IT",
         75000,
         "In Progress",
         "Project W2"
        ],
        [
         47,
         "Sarah",
         28,
         "Miami",
         "IT",
         75000,
         "Completed",
         "Project V2"
        ],
        [
         23,
         "Michael",
         32,
         "Seattle",
         null,
         null,
         null,
         null
        ],
        [
         11,
         "John",
         26,
         "Dallas",
         "Sales",
         45000,
         "In Progress",
         "Project R"
        ],
        [
         11,
         "John",
         26,
         "Dallas",
         "Sales",
         45000,
         "In Progress",
         "Project Q"
        ],
        [
         75,
         "Michael",
         32,
         "Seattle",
         null,
         null,
         null,
         null
        ],
        [
         32,
         "Chris",
         31,
         "Chicago",
         "Marketing",
         70000,
         "Completed",
         "Project Y1"
        ],
        [
         32,
         "Chris",
         31,
         "Chicago",
         "Marketing",
         70000,
         "In Progress",
         "Project Z1"
        ],
        [
         1,
         "John",
         25,
         "New York",
         "Sales",
         50000,
         "Completed",
         "Project A"
        ],
        [
         1,
         "John",
         25,
         "New York",
         "Sales",
         50000,
         "In Progress",
         "Project B"
        ],
        [
         56,
         "Olivia",
         33,
         "New York",
         null,
         null,
         null,
         null
        ],
        [
         8,
         "Brian",
         45,
         null,
         "Finance",
         90000,
         "Completed",
         "Project M"
        ],
        [
         8,
         "Brian",
         45,
         null,
         "Finance",
         90000,
         "Completed",
         "Project L"
        ],
        [
         5,
         "Michael",
         32,
         "Seattle",
         "IT",
         65000,
         "In Progress",
         "Project G"
        ],
        [
         5,
         "Michael",
         32,
         "Seattle",
         "IT",
         65000,
         "In Progress",
         "Project F"
        ],
        [
         86,
         "David",
         35,
         "Chicago",
         null,
         null,
         null,
         null
        ],
        [
         78,
         "David",
         35,
         "Chicago",
         null,
         null,
         null,
         null
        ],
        [
         84,
         "Alex",
         30,
         "Null",
         null,
         null,
         null,
         null
        ],
        [
         49,
         "Emma",
         40,
         "San Francisco",
         "Marketing",
         0,
         "In Progress",
         "Project Z2"
        ],
        [
         73,
         "Amy",
         29,
         "Null",
         null,
         null,
         null,
         null
        ],
        [
         16,
         "Olivia",
         33,
         "New York",
         "HR",
         50000,
         "In Progress",
         "Project Y"
        ],
        [
         16,
         "Olivia",
         33,
         "New York",
         "HR",
         50000,
         "Completed",
         "Project X"
        ],
        [
         30,
         "Brian",
         45,
         null,
         "IT",
         85000,
         "In Progress",
         "Project V1"
        ],
        [
         30,
         "Brian",
         45,
         null,
         "IT",
         85000,
         "Completed",
         "Project U1"
        ],
        [
         9,
         "Emily",
         0,
         "Null",
         "Marketing",
         0,
         "In Progress",
         "Project N"
        ],
        [
         65,
         "John",
         25,
         "Los Angeles",
         null,
         null,
         null,
         null
        ],
        [
         70,
         "Brian",
         45,
         null,
         null,
         null,
         null,
         null
        ],
        [
         4,
         "Sarah",
         28,
         "Miami",
         "HR",
         55000,
         "Completed",
         "Project E"
        ],
        [
         72,
         "Chris",
         31,
         "Chicago",
         null,
         null,
         null,
         null
        ],
        [
         88,
         "Sarah",
         28,
         "Miami",
         null,
         null,
         null,
         null
        ],
        [
         90,
         "Brian",
         45,
         null,
         null,
         null,
         null,
         null
        ],
        [
         10,
         "Matthew",
         27,
         "Houston",
         "IT",
         80000,
         "In Progress",
         "Project P"
        ],
        [
         10,
         "Matthew",
         27,
         "Houston",
         "IT",
         80000,
         "Completed",
         "Project O"
        ],
        [
         22,
         "Emily",
         27,
         "Houston",
         "Marketing",
         65000,
         "Completed",
         "Project I1"
        ],
        [
         22,
         "Emily",
         27,
         "Houston",
         "Marketing",
         65000,
         "In Progress",
         "Project J1"
        ],
        [
         82,
         "Emily",
         27,
         "Houston",
         null,
         null,
         null,
         null
        ],
        [
         20,
         "Brian",
         45,
         null,
         "IT",
         85000,
         "Completed",
         "Project E1"
        ],
        [
         20,
         "Brian",
         45,
         null,
         "IT",
         85000,
         "In Progress",
         "Project F1"
        ],
        [
         2,
         "Jane",
         30,
         "Los Angeles",
         "Marketing",
         60000,
         "Completed",
         "Project C"
        ],
        [
         2,
         "Jane",
         30,
         "Los Angeles",
         "Marketing",
         60000,
         "In Progress",
         "Project D"
        ],
        [
         34,
         "Emily",
         27,
         "Houston",
         "HR",
         50000,
         "Completed",
         "Project A2"
        ],
        [
         89,
         "Emma",
         40,
         "San Francisco",
         null,
         null,
         null,
         null
        ],
        [
         37,
         "John",
         25,
         "Los Angeles",
         "IT",
         75000,
         "In Progress",
         "Project G2"
        ],
        [
         37,
         "John",
         25,
         "Los Angeles",
         "IT",
         75000,
         "Completed",
         "Project F2"
        ],
        [
         39,
         "Emma",
         40,
         "San Francisco",
         "Marketing",
         0,
         "In Progress",
         "Project J2"
        ],
        [
         55,
         "Michael",
         32,
         "Seattle",
         null,
         null,
         null,
         null
        ],
        [
         76,
         "Olivia",
         33,
         "New York",
         null,
         null,
         null,
         null
        ],
        [
         17,
         "John",
         25,
         "Los Angeles",
         "IT",
         75000,
         "In Progress",
         "Project A1"
        ],
        [
         17,
         "John",
         25,
         "Los Angeles",
         "IT",
         75000,
         "Completed",
         "Project Z"
        ],
        [
         69,
         "Emma",
         40,
         "San Francisco",
         null,
         null,
         null,
         null
        ],
        [
         59,
         "Emma",
         40,
         "San Francisco",
         null,
         null,
         null,
         null
        ],
        [
         51,
         "John",
         26,
         "Dallas",
         null,
         null,
         null,
         null
        ],
        [
         83,
         "Michael",
         32,
         "Seattle",
         null,
         null,
         null,
         null
        ],
        [
         57,
         "John",
         25,
         "Los Angeles",
         null,
         null,
         null,
         null
        ],
        [
         53,
         "Amy",
         29,
         "Null",
         null,
         null,
         null,
         null
        ],
        [
         80,
         "Brian",
         45,
         null,
         null,
         null,
         null,
         null
        ],
        [
         62,
         "Emily",
         27,
         "Houston",
         null,
         null,
         null,
         null
        ],
        [
         46,
         "David",
         35,
         "Chicago",
         "HR",
         50000,
         "Completed",
         "Project T2"
        ],
        [
         46,
         "David",
         35,
         "Chicago",
         "HR",
         50000,
         "In Progress",
         "Project U2"
        ],
        [
         91,
         "John",
         26,
         "Dallas",
         null,
         null,
         null,
         null
        ],
        [
         13,
         "Amy",
         29,
         "Null",
         null,
         null,
         null,
         null
        ],
        [
         43,
         "Michael",
         32,
         "Seattle",
         null,
         null,
         null,
         null
        ],
        [
         52,
         "Chris",
         31,
         "Chicago",
         null,
         null,
         null,
         null
        ],
        [
         19,
         "Emma",
         40,
         "San Francisco",
         "Marketing",
         0,
         "In Progress",
         "Project D1"
        ],
        [
         36,
         "Olivia",
         33,
         "New York",
         "HR",
         50000,
         "Completed",
         "Project D2"
        ],
        [
         36,
         "Olivia",
         33,
         "New York",
         "HR",
         50000,
         "In Progress",
         "Project E2"
        ],
        [
         44,
         "Alex",
         30,
         "Null",
         "HR",
         50000,
         "Completed",
         "Project Q2"
        ],
        [
         14,
         "Emily",
         27,
         "Houston",
         "HR",
         50000,
         "Completed",
         "Project U"
        ],
        [
         29,
         "Emma",
         40,
         "San Francisco",
         "Marketing",
         0,
         "In Progress",
         "Project T1"
        ],
        [
         81,
         "John",
         26,
         "Dallas",
         null,
         null,
         null,
         null
        ],
        [
         66,
         "David",
         35,
         "Chicago",
         null,
         null,
         null,
         null
        ],
        [
         3,
         "David",
         35,
         "Chicago",
         null,
         null,
         null,
         null
        ],
        [
         25,
         "John",
         25,
         "Los Angeles",
         "IT",
         55000,
         "In Progress",
         "Project L1"
        ],
        [
         25,
         "John",
         25,
         "Los Angeles",
         "IT",
         55000,
         "In Progress",
         "Project M1"
        ],
        [
         27,
         "Sarah",
         28,
         "Miami",
         "IT",
         75000,
         "In Progress",
         "Project Q1"
        ],
        [
         27,
         "Sarah",
         28,
         "Miami",
         "IT",
         75000,
         "Completed",
         "Project P1"
        ],
        [
         77,
         "John",
         25,
         "Los Angeles",
         null,
         null,
         null,
         null
        ],
        [
         28,
         "Sarah",
         28,
         "Miami",
         "Finance",
         80000,
         "Completed",
         "Project S1"
        ],
        [
         28,
         "Sarah",
         28,
         "Miami",
         "Finance",
         80000,
         "Completed",
         "Project R1"
        ]
       ],
       "datasetInfos": [],
       "dbfsResultPath": null,
       "isJsonSchema": true,
       "metadata": {},
       "overflow": false,
       "plotOptions": {
        "customPlotOptions": {},
        "displayType": "table",
        "pivotAggregation": null,
        "pivotColumns": null,
        "xColumns": null,
        "yColumns": null
       },
       "removedWidgets": [],
       "schema": [
        {
         "metadata": "{}",
         "name": "id",
         "type": "\"integer\""
        },
        {
         "metadata": "{}",
         "name": "name",
         "type": "\"string\""
        },
        {
         "metadata": "{}",
         "name": "age",
         "type": "\"integer\""
        },
        {
         "metadata": "{}",
         "name": "city",
         "type": "\"string\""
        },
        {
         "metadata": "{}",
         "name": "department",
         "type": "\"string\""
        },
        {
         "metadata": "{}",
         "name": "salary",
         "type": "\"long\""
        },
        {
         "metadata": "{}",
         "name": "status",
         "type": "\"string\""
        },
        {
         "metadata": "{}",
         "name": "project_name",
         "type": "\"string\""
        }
       ],
       "type": "table"
      }
     },
     "output_type": "display_data"
    }
   ],
   "source": [
    "values=[31,40,7,15]\n",
    "df_final=deleate_record(df_joined,'id',values)\n",
    "df_final.display()"
   ]
  },
  {
   "cell_type": "code",
   "execution_count": 0,
   "metadata": {
    "application/vnd.databricks.v1+cell": {
     "cellMetadata": {},
     "inputWidgets": {},
     "nuid": "38203c0e-fbe1-42a5-9bf9-f21af593cab4",
     "showTitle": false,
     "title": ""
    }
   },
   "outputs": [],
   "source": []
  }
 ],
 "metadata": {
  "application/vnd.databricks.v1+notebook": {
   "dashboards": [],
   "language": "python",
   "notebookMetadata": {
    "pythonIndentUnit": 4
   },
   "notebookName": "processer",
   "widgets": {}
  }
 },
 "nbformat": 4,
 "nbformat_minor": 0
}
