{
 "cells": [
  {
   "cell_type": "markdown",
   "metadata": {
    "application/vnd.databricks.v1+cell": {
     "cellMetadata": {},
     "inputWidgets": {},
     "nuid": "cd60ade2-cac8-4e12-b083-ad320ce53b83",
     "showTitle": false,
     "title": ""
    }
   },
   "source": [
    "#Modules Imported"
   ]
  },
  {
   "cell_type": "code",
   "execution_count": 0,
   "metadata": {
    "application/vnd.databricks.v1+cell": {
     "cellMetadata": {
      "byteLimit": 2048000,
      "rowLimit": 10000
     },
     "inputWidgets": {},
     "nuid": "9637aeb8-101c-474d-a521-de580fd3cf04",
     "showTitle": false,
     "title": ""
    }
   },
   "outputs": [],
   "source": [
    "from pyspark.sql.types import StructType,StructField,IntegerType,StringType,ArrayType,MapType,LongType"
   ]
  },
  {
   "cell_type": "markdown",
   "metadata": {
    "application/vnd.databricks.v1+cell": {
     "cellMetadata": {},
     "inputWidgets": {},
     "nuid": "6462842d-16e1-4a09-a067-b36a3b8ef67d",
     "showTitle": false,
     "title": ""
    }
   },
   "source": [
    "Schema of Employee table"
   ]
  },
  {
   "cell_type": "code",
   "execution_count": 0,
   "metadata": {
    "application/vnd.databricks.v1+cell": {
     "cellMetadata": {
      "byteLimit": 2048000,
      "rowLimit": 10000
     },
     "inputWidgets": {},
     "nuid": "7d6eca98-24e6-45f0-85e9-7a22f82cf6ea",
     "showTitle": false,
     "title": ""
    }
   },
   "outputs": [],
   "source": [
    "Schema_employee=StructType([\n",
    "    StructField(\"id\",StringType()),\n",
    "    StructField(\"name\",StringType()),\n",
    "    StructField(\"age\",StringType()),\n",
    "    StructField('city',StringType())])"
   ]
  },
  {
   "cell_type": "markdown",
   "metadata": {
    "application/vnd.databricks.v1+cell": {
     "cellMetadata": {},
     "inputWidgets": {},
     "nuid": "a835b42f-8cda-4f70-8a8c-60f936f87e34",
     "showTitle": false,
     "title": ""
    }
   },
   "source": [
    "Schema of Project table"
   ]
  },
  {
   "cell_type": "code",
   "execution_count": 0,
   "metadata": {
    "application/vnd.databricks.v1+cell": {
     "cellMetadata": {
      "byteLimit": 2048000,
      "rowLimit": 10000
     },
     "inputWidgets": {},
     "nuid": "d7d526a5-d306-4975-bb5e-37122d4bc1b2",
     "showTitle": false,
     "title": ""
    }
   },
   "outputs": [],
   "source": [
    "schema_project = StructType([\n",
    "    StructField(\"department\", StringType(), nullable=True),\n",
    "    StructField(\"id\", LongType(), nullable=True),\n",
    "    StructField(\"projects\", ArrayType(\n",
    "        StructType([\n",
    "            StructField(\"name\", StringType(), nullable=True),\n",
    "            StructField(\"status\", StringType(), nullable=True)\n",
    "        ]),\n",
    "        containsNull=True\n",
    "    ), nullable=True),\n",
    "    StructField(\"salary\", LongType(), nullable=True)\n",
    "])"
   ]
  },
  {
   "cell_type": "code",
   "execution_count": 0,
   "metadata": {
    "application/vnd.databricks.v1+cell": {
     "cellMetadata": {},
     "inputWidgets": {},
     "nuid": "a51a92b2-cf42-4eaf-ba4a-b303ec935d0d",
     "showTitle": false,
     "title": ""
    }
   },
   "outputs": [],
   "source": []
  }
 ],
 "metadata": {
  "application/vnd.databricks.v1+notebook": {
   "dashboards": [],
   "language": "python",
   "notebookMetadata": {
    "pythonIndentUnit": 4
   },
   "notebookName": "Schema",
   "widgets": {}
  }
 },
 "nbformat": 4,
 "nbformat_minor": 0
}
