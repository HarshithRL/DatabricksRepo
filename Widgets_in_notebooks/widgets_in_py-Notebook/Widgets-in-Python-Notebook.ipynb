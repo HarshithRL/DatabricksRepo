{
 "cells": [
  {
   "cell_type": "code",
   "execution_count": 0,
   "metadata": {
    "application/vnd.databricks.v1+cell": {
     "cellMetadata": {
      "byteLimit": 2048000,
      "rowLimit": 10000
     },
     "inputWidgets": {},
     "nuid": "d22eb1ef-1ea0-4c20-96c3-c433163d37fb",
     "showTitle": false,
     "title": ""
    }
   },
   "outputs": [
    {
     "output_type": "stream",
     "name": "stdout",
     "output_type": "stream",
     "text": [
      "Package                        Version\n------------------------------ -------------\nabsl-py                        1.0.0\naccelerate                     0.20.3\naiohttp                        3.8.5\naiosignal                      1.3.1\nanyio                          3.5.0\nappdirs                        1.4.4\nargon2-cffi                    21.3.0\nargon2-cffi-bindings           21.2.0\nastor                          0.8.1\nasttokens                      2.2.1\nastunparse                     1.6.3\nasync-timeout                  4.0.3\nattrs                          21.4.0\naudioread                      3.0.0\nazure-core                     1.29.1\nazure-cosmos                   4.3.1\nazure-storage-blob             12.17.0\nazure-storage-file-datalake    12.12.0\nbackcall                       0.2.0\nbcrypt                         3.2.0\nbeautifulsoup4                 4.11.1\nblack                          22.6.0\nbleach                         4.1.0\nblinker                        1.4\nblis                           0.7.10\nboto3                          1.24.28\nbotocore                       1.27.28\ncachetools                     4.2.4\ncatalogue                      2.0.9\ncategory-encoders              2.6.1\ncertifi                        2022.9.14\ncffi                           1.15.1\nchardet                        4.0.0\ncharset-normalizer             2.0.4\nclick                          8.0.4\ncloudpickle                    2.0.0\ncmdstanpy                      1.1.0\nconfection                     0.1.1\nconfigparser                   5.2.0\nconvertdate                    2.4.0\ncryptography                   37.0.1\ncycler                         0.11.0\ncymem                          2.0.7\nCython                         0.29.32\ndacite                         1.8.1\ndatabricks-automl-runtime      0.2.17\ndatabricks-cli                 0.17.7\ndatabricks-feature-engineering 0.1.2\ndatabricks-feature-store       0.14.3\ndatabricks-sdk                 0.1.6\ndataclasses-json               0.5.14\ndatasets                       2.13.1\ndbl-tempo                      0.1.26\ndbus-python                    1.2.18\ndebugpy                        1.6.0\ndecorator                      5.1.1\ndefusedxml                     0.7.1\ndill                           0.3.4\ndiskcache                      5.6.1\ndistlib                        0.3.7\ndistro                         1.7.0\ndistro-info                    1.1+ubuntu0.2\ndocstring-to-markdown          0.12\nentrypoints                    0.4\nephem                          4.1.4\nevaluate                       0.4.0\nexecuting                      1.2.0\nfacets-overview                1.0.3\nfastapi                        0.98.0\nfastjsonschema                 2.18.0\nfasttext                       0.9.2\nfilelock                       3.6.0\nFlask                          1.1.2+db1\nflatbuffers                    23.5.26\nfonttools                      4.25.0\nfrozenlist                     1.4.0\nfsspec                         2022.7.1\nfuture                         0.18.2\ngast                           0.4.0\ngitdb                          4.0.10\nGitPython                      3.1.27\ngoogle-api-core                2.8.2\ngoogle-auth                    1.33.0\ngoogle-auth-oauthlib           0.4.6\ngoogle-cloud-core              2.3.3\ngoogle-cloud-storage           2.10.0\ngoogle-crc32c                  1.5.0\ngoogle-pasta                   0.2.0\ngoogle-resumable-media         2.5.0\ngoogleapis-common-protos       1.56.4\ngreenlet                       1.1.1\ngrpcio                         1.48.1\ngrpcio-status                  1.48.1\ngunicorn                       20.1.0\ngviz-api                       1.10.0\nh11                            0.14.0\nh5py                           3.7.0\nholidays                       0.27.1\nhorovod                        0.28.1\nhtmlmin                        0.1.12\nhttplib2                       0.20.2\nhttptools                      0.6.0\nhuggingface-hub                0.16.4\nidna                           3.3\nImageHash                      4.3.1\nimbalanced-learn               0.10.1\nimportlib-metadata             4.11.3\nimportlib-resources            6.0.1\nipykernel                      6.17.1\nipython                        8.10.0\nipython-genutils               0.2.0\nipywidgets                     7.7.2\nisodate                        0.6.1\nitsdangerous                   2.0.1\njedi                           0.18.1\njeepney                        0.7.1\nJinja2                         2.11.3\njmespath                       0.10.0\njoblib                         1.2.0\njoblibspark                    0.5.1\njsonschema                     4.16.0\njupyter-client                 7.3.4\njupyter_core                   4.11.2\njupyterlab-pygments            0.1.2\njupyterlab-widgets             1.0.0\nkeras                          2.11.0\nkeyring                        23.5.0\nkiwisolver                     1.4.2\nlangchain                      0.0.217\nlangchainplus-sdk              0.0.20\nlangcodes                      3.3.0\nlaunchpadlib                   1.10.16\nlazr.restfulclient             0.14.4\nlazr.uri                       1.0.6\nlazy_loader                    0.3\nlibclang                       15.0.6.1\nlibrosa                        0.10.0\nlightgbm                       3.3.5\nllvmlite                       0.38.0\nLunarCalendar                  0.0.9\nMako                           1.2.0\nMarkdown                       3.3.4\nMarkupSafe                     2.0.1\nmarshmallow                    3.20.1\nmatplotlib                     3.5.2\nmatplotlib-inline              0.1.6\nmccabe                         0.7.0\nmistune                        0.8.4\nmleap                          0.20.0\nmlflow-skinny                  2.5.0\nmore-itertools                 8.10.0\nmsgpack                        1.0.5\nmultidict                      6.0.4\nmultimethod                    1.9.1\nmultiprocess                   0.70.12.2\nmurmurhash                     1.0.9\nmypy-extensions                0.4.3\nnbclient                       0.5.13\nnbconvert                      6.4.4\nnbformat                       5.5.0\nnest-asyncio                   1.5.5\nnetworkx                       2.8.4\nninja                          1.11.1\nnltk                           3.7\nnodeenv                        1.8.0\nnotebook                       6.4.12\nnumba                          0.55.1\nnumexpr                        2.8.4\nnumpy                          1.21.5\noauthlib                       3.2.0\nopenai                         0.27.8\nopenapi-schema-pydantic        1.2.4\nopt-einsum                     3.3.0\npackaging                      21.3\npandas                         1.4.4\npandocfilters                  1.5.0\nparamiko                       2.9.2\nparso                          0.8.3\npathspec                       0.9.0\npathy                          0.10.2\npatsy                          0.5.2\npetastorm                      0.12.1\npexpect                        4.8.0\nphik                           0.12.3\npickleshare                    0.7.5\nPillow                         9.2.0\npip                            22.2.2\nplatformdirs                   2.5.2\nplotly                         5.9.0\npluggy                         1.0.0\npmdarima                       2.0.3\npooch                          1.7.0\npreshed                        3.0.8\nprometheus-client              0.14.1\nprompt-toolkit                 3.0.36\nprophet                        1.1.4\nprotobuf                       3.19.4\npsutil                         5.9.0\npsycopg2                       2.9.3\nptyprocess                     0.7.0\npure-eval                      0.2.2\npyarrow                        8.0.0\npyarrow-hotfix                 0.5\npyasn1                         0.4.8\npyasn1-modules                 0.2.8\npybind11                       2.11.1\npycparser                      2.21\npydantic                       1.10.6\npyflakes                       3.0.1\nPygments                       2.11.2\nPyGObject                      3.42.1\nPyJWT                          2.3.0\nPyMeeus                        0.5.12\nPyNaCl                         1.5.0\npyodbc                         4.0.32\npyparsing                      3.0.9\npyright                        1.1.294\npyrsistent                     0.18.0\npytesseract                    0.3.10\npython-apt                     2.4.0+ubuntu2\npython-dateutil                2.8.2\npython-dotenv                  1.0.0\npython-editor                  1.0.4\npython-lsp-jsonrpc             1.0.0\npython-lsp-server              1.7.1\npytoolconfig                   1.2.2\npytz                           2022.1\nPyWavelets                     1.3.0\nPyYAML                         6.0\npyzmq                          23.2.0\nregex                          2022.7.9\nrequests                       2.28.1\nrequests-oauthlib              1.3.1\nresponses                      0.18.0\nrope                           1.7.0\nrsa                            4.9\ns3transfer                     0.6.0\nsafetensors                    0.3.2\nscikit-learn                   1.1.1\nscipy                          1.9.1\nseaborn                        0.11.2\nSecretStorage                  3.3.1\nSend2Trash                     1.8.0\nsentence-transformers          2.2.2\nsentencepiece                  0.1.99\nsetuptools                     63.4.1\nshap                           0.41.0\nsimplejson                     3.17.6\nsix                            1.16.0\nslicer                         0.0.7\nsmart-open                     5.2.1\nsmmap                          5.0.0\nsniffio                        1.2.0\nsoundfile                      0.12.1\nsoupsieve                      2.3.1\nsoxr                           0.3.6\nspacy                          3.5.3\nspacy-legacy                   3.0.12\nspacy-loggers                  1.0.4\nspark-tensorflow-distributor   1.0.0\nSQLAlchemy                     1.4.39\nsqlparse                       0.4.2\nsrsly                          2.4.7\nssh-import-id                  5.11\nstack-data                     0.6.2\nstarlette                      0.27.0\nstatsmodels                    0.13.2\ntabulate                       0.8.10\ntangled-up-in-unicode          0.2.0\ntenacity                       8.1.0\ntensorboard                    2.11.0\ntensorboard-data-server        0.6.1\ntensorboard-plugin-profile     2.11.2\ntensorboard-plugin-wit         1.8.1\ntensorflow-cpu                 2.11.1\ntensorflow-estimator           2.11.0\ntensorflow-io-gcs-filesystem   0.33.0\ntermcolor                      2.3.0\nterminado                      0.13.1\ntestpath                       0.6.0\nthinc                          8.1.12\nthreadpoolctl                  2.2.0\ntiktoken                       0.4.0\ntokenize-rt                    4.2.1\ntokenizers                     0.13.3\ntomli                          2.0.1\ntorch                          1.13.1+cpu\ntorchvision                    0.14.1+cpu\ntornado                        6.1\ntqdm                           4.64.1\ntraitlets                      5.1.1\ntransformers                   4.30.2\ntypeguard                      2.13.3\ntyper                          0.7.0\ntyping_extensions              4.3.0\ntyping-inspect                 0.9.0\nujson                          5.4.0\nunattended-upgrades            0.1\nurllib3                        1.26.11\nuvicorn                        0.23.2\nuvloop                         0.17.0\nvirtualenv                     20.16.3\nvisions                        0.7.5\nwadllib                        1.3.6\nwasabi                         1.1.2\nwatchfiles                     0.19.0\nwcwidth                        0.2.5\nwebencodings                   0.5.1\nwebsocket-client               0.58.0\nwebsockets                     11.0.3\nWerkzeug                       2.0.3\nwhatthepatch                   1.0.2\nwheel                          0.37.1\nwidgetsnbextension             3.6.1\nwordcloud                      1.9.2\nwrapt                          1.14.1\nxgboost                        1.7.6\nxxhash                         3.3.0\nyapf                           0.31.0\nyarl                           1.9.2\nydata-profiling                4.2.0\nzipp                           3.8.0\n"
     ]
    }
   ],
   "source": [
    "%pip list"
   ]
  },
  {
   "cell_type": "code",
   "execution_count": 0,
   "metadata": {
    "application/vnd.databricks.v1+cell": {
     "cellMetadata": {
      "byteLimit": 2048000,
      "rowLimit": 10000
     },
     "inputWidgets": {},
     "nuid": "ffdadb02-edf6-477f-ba0c-f06cd478edaa",
     "showTitle": false,
     "title": ""
    }
   },
   "outputs": [
    {
     "output_type": "display_data",
     "data": {
      "text/html": [
       "<div class = \"ansiout\">\n",
       "This module provides various utilities for users to interact with the rest of Databricks.\n",
       "  <h3></h3><b>credentials: DatabricksCredentialUtils</b> -> Utilities for interacting with credentials within notebooks<br /><b>data: DataUtils</b> -> Utilities for understanding and interacting with datasets (EXPERIMENTAL)<br /><b>fs: DbfsUtils</b> -> Manipulates the Databricks filesystem (DBFS) from the console<br /><b>jobs: JobsUtils</b> -> Utilities for leveraging jobs features<br /><b>library: LibraryUtils</b> -> Utilities for session isolated libraries<br /><b>meta: MetaUtils</b> -> Methods to hook into the compiler (EXPERIMENTAL)<br /><b>notebook: NotebookUtils</b> -> Utilities for the control flow of a notebook (EXPERIMENTAL)<br /><b>preview: Preview</b> -> Utilities under preview category<br /><b>secrets: SecretUtils</b> -> Provides utilities for leveraging secrets within notebooks<br /><b>widgets: WidgetsUtils</b> -> Methods to create and get bound value of input widgets inside notebooks<br /><br /></div>"
      ]
     },
     "metadata": {},
     "output_type": "display_data"
    }
   ],
   "source": [
    "dbutils.help()"
   ]
  },
  {
   "cell_type": "markdown",
   "metadata": {
    "application/vnd.databricks.v1+cell": {
     "cellMetadata": {},
     "inputWidgets": {},
     "nuid": "7bd335e8-6c89-41f0-8340-f4f1a4e977ac",
     "showTitle": false,
     "title": ""
    }
   },
   "source": [
    "##Types Of widgets"
   ]
  },
  {
   "cell_type": "code",
   "execution_count": 0,
   "metadata": {
    "application/vnd.databricks.v1+cell": {
     "cellMetadata": {
      "byteLimit": 2048000,
      "rowLimit": 10000
     },
     "inputWidgets": {},
     "nuid": "df093a02-cdc4-4b10-89a3-14815f5bf724",
     "showTitle": false,
     "title": ""
    }
   },
   "outputs": [
    {
     "output_type": "display_data",
     "data": {
      "text/html": [
       "<div class = \"ansiout\"><b>dbutils.widgets</b> provides utilities for working with notebook widgets. You can create\n",
       "different types of widgets and get their bound value.\n",
       "\n",
       "For more info about a method, use <b>dbutils.widgets.help(\"methodName\")</b>.\n",
       "    <h3></h3><b>combobox(name: String, defaultValue: String, choices: Seq, label: String): void</b> -> Creates a combobox input widget with a given name, default value and choices<br /><b>dropdown(name: String, defaultValue: String, choices: Seq, label: String): void</b> -> Creates a dropdown input widget a with given name, default value and choices<br /><b>get(name: String): String</b> -> Retrieves current value of an input widget<br /><b>getArgument(name: String, optional: String): String</b> -> (DEPRECATED) Equivalent to get<br /><b>multiselect(name: String, defaultValue: String, choices: Seq, label: String): void</b> -> Creates a multiselect input widget with a given name, default value and choices<br /><b>remove(name: String): void</b> -> Removes an input widget from the notebook<br /><b>removeAll: void</b> -> Removes all widgets in the notebook<br /><b>text(name: String, defaultValue: String, label: String): void</b> -> Creates a text input widget with a given name and default value<br /><br /></div>"
      ]
     },
     "metadata": {},
     "output_type": "display_data"
    }
   ],
   "source": [
    "dbutils.widgets.help()"
   ]
  },
  {
   "cell_type": "markdown",
   "metadata": {
    "application/vnd.databricks.v1+cell": {
     "cellMetadata": {},
     "inputWidgets": {},
     "nuid": "377bf064-697a-4bba-b83d-31475324d2cb",
     "showTitle": false,
     "title": ""
    }
   },
   "source": [
    "####Dropdown widgets"
   ]
  },
  {
   "cell_type": "code",
   "execution_count": 0,
   "metadata": {
    "application/vnd.databricks.v1+cell": {
     "cellMetadata": {
      "byteLimit": 2048000,
      "rowLimit": 10000
     },
     "inputWidgets": {},
     "nuid": "f2bbea87-c2c0-4ee0-87e1-2f73a87109d6",
     "showTitle": false,
     "title": ""
    }
   },
   "outputs": [],
   "source": [
    "dbutils.widgets.dropdown(\"year\", \"2014\", ['2010','2011','2012','2014','2019'])\n",
    "#dropdown(name: String, defaultValue: String, choices: Seq, label: String)"
   ]
  },
  {
   "cell_type": "code",
   "execution_count": 0,
   "metadata": {
    "application/vnd.databricks.v1+cell": {
     "cellMetadata": {
      "byteLimit": 2048000,
      "rowLimit": 10000
     },
     "inputWidgets": {},
     "nuid": "47779656-6c95-4389-9c1a-b3d6d6bc80fc",
     "showTitle": true,
     "title": "Getting the Value from Widgets"
    }
   },
   "outputs": [
    {
     "output_type": "execute_result",
     "data": {
      "text/plain": [
       "'2019'"
      ]
     },
     "execution_count": 37,
     "metadata": {},
     "output_type": "execute_result"
    }
   ],
   "source": [
    "year_from_widget=dbutils.widgets.get('year')\n",
    "year_from_widget"
   ]
  },
  {
   "cell_type": "markdown",
   "metadata": {
    "application/vnd.databricks.v1+cell": {
     "cellMetadata": {},
     "inputWidgets": {},
     "nuid": "d9cc80d5-0864-4b25-a450-852730344759",
     "showTitle": false,
     "title": ""
    }
   },
   "source": [
    "####TEXT widgets"
   ]
  },
  {
   "cell_type": "code",
   "execution_count": 0,
   "metadata": {
    "application/vnd.databricks.v1+cell": {
     "cellMetadata": {
      "byteLimit": 2048000,
      "rowLimit": 10000
     },
     "inputWidgets": {},
     "nuid": "065b7d38-384b-473b-90e9-b623c337e442",
     "showTitle": false,
     "title": ""
    }
   },
   "outputs": [],
   "source": [
    "dbutils.widgets.text(\"Comments\", \"Add the comments\",'Text')\n",
    "#text(name: String, defaultValue: String, label: String): void -> Creates a text input widget with a given name and default value"
   ]
  },
  {
   "cell_type": "code",
   "execution_count": 0,
   "metadata": {
    "application/vnd.databricks.v1+cell": {
     "cellMetadata": {
      "byteLimit": 2048000,
      "rowLimit": 10000
     },
     "inputWidgets": {},
     "nuid": "5d3abfd8-ba92-4297-be22-db34b2abd8d4",
     "showTitle": true,
     "title": "Getting the value from Wildgets"
    }
   },
   "outputs": [
    {
     "output_type": "execute_result",
     "data": {
      "text/plain": [
       "'Started to explore Widgets'"
      ]
     },
     "execution_count": 24,
     "metadata": {},
     "output_type": "execute_result"
    }
   ],
   "source": [
    "Text_from_widgets=dbutils.widgets.get('Comments')\n",
    "Text_from_widgets"
   ]
  },
  {
   "cell_type": "markdown",
   "metadata": {
    "application/vnd.databricks.v1+cell": {
     "cellMetadata": {},
     "inputWidgets": {},
     "nuid": "6427206f-4b1f-49e2-a7d8-e5fa69d8d39d",
     "showTitle": false,
     "title": ""
    }
   },
   "source": [
    "####Multiselect widgets"
   ]
  },
  {
   "cell_type": "code",
   "execution_count": 0,
   "metadata": {
    "application/vnd.databricks.v1+cell": {
     "cellMetadata": {
      "byteLimit": 2048000,
      "rowLimit": 10000
     },
     "inputWidgets": {},
     "nuid": "521d811b-d5f9-470d-a5e8-16e7338f0f32",
     "showTitle": false,
     "title": ""
    }
   },
   "outputs": [],
   "source": [
    "dbutils.widgets.multiselect(\"MultiSelect\",\"z\",['x','y','z','f'],'select the values')\n",
    "#multiselect(name: String, defaultValue: String, choices: Seq, label: String): void -> Creates a multiselect input widget with a given name, default value and choices"
   ]
  },
  {
   "cell_type": "code",
   "execution_count": 0,
   "metadata": {
    "application/vnd.databricks.v1+cell": {
     "cellMetadata": {
      "byteLimit": 2048000,
      "rowLimit": 10000
     },
     "inputWidgets": {},
     "nuid": "95a7d03d-9177-430f-8fcd-d05780fe071d",
     "showTitle": false,
     "title": ""
    }
   },
   "outputs": [
    {
     "output_type": "execute_result",
     "data": {
      "text/plain": [
       "'z,y'"
      ]
     },
     "execution_count": 29,
     "metadata": {},
     "output_type": "execute_result"
    }
   ],
   "source": [
    "multiselect_from_widgets=dbutils.widgets.get('MultiSelect')\n",
    "multiselect_from_widgets"
   ]
  },
  {
   "cell_type": "markdown",
   "metadata": {
    "application/vnd.databricks.v1+cell": {
     "cellMetadata": {},
     "inputWidgets": {},
     "nuid": "f6154243-1043-4854-bcb4-877d140fbe32",
     "showTitle": false,
     "title": ""
    }
   },
   "source": [
    "####ComboBox Widgets"
   ]
  },
  {
   "cell_type": "code",
   "execution_count": 0,
   "metadata": {
    "application/vnd.databricks.v1+cell": {
     "cellMetadata": {
      "byteLimit": 2048000,
      "rowLimit": 10000
     },
     "inputWidgets": {},
     "nuid": "a9faa3dc-1ebd-4cf4-a2a7-adc0675a9dc4",
     "showTitle": false,
     "title": ""
    }
   },
   "outputs": [],
   "source": [
    "dbutils.widgets.combobox(\"combobox\",\"z\",['x','y','z','f'],'combobox_list')\n",
    "#combobox(name: String, defaultValue: String, choices: Seq, label: String): void -> Creates a combobox input widget with a given name, default value and choices"
   ]
  },
  {
   "cell_type": "code",
   "execution_count": 0,
   "metadata": {
    "application/vnd.databricks.v1+cell": {
     "cellMetadata": {
      "byteLimit": 2048000,
      "rowLimit": 10000
     },
     "inputWidgets": {},
     "nuid": "5065172e-e651-4cd8-a46a-9043828deaed",
     "showTitle": false,
     "title": ""
    }
   },
   "outputs": [
    {
     "output_type": "execute_result",
     "data": {
      "text/plain": [
       "'z'"
      ]
     },
     "execution_count": 44,
     "metadata": {},
     "output_type": "execute_result"
    }
   ],
   "source": [
    "combo_from_widgets=dbutils.widgets.get('combobox')\n",
    "combo_from_widgets"
   ]
  },
  {
   "cell_type": "markdown",
   "metadata": {
    "application/vnd.databricks.v1+cell": {
     "cellMetadata": {},
     "inputWidgets": {},
     "nuid": "bea3cbb9-fd5e-4680-8ab2-066558ce1b8c",
     "showTitle": false,
     "title": ""
    }
   },
   "source": [
    "##Passing the Widgets value to PY function"
   ]
  },
  {
   "cell_type": "code",
   "execution_count": 0,
   "metadata": {
    "application/vnd.databricks.v1+cell": {
     "cellMetadata": {
      "byteLimit": 2048000,
      "rowLimit": 10000
     },
     "inputWidgets": {},
     "nuid": "dd36a154-f012-4179-8447-9ad50c2a950f",
     "showTitle": false,
     "title": ""
    }
   },
   "outputs": [],
   "source": [
    "def starting_year_covid(z):\n",
    "    if z=='2019':\n",
    "        print(\"Cheers to covid\")\n",
    "    else:\n",
    "        print('Your too late or Too early')"
   ]
  },
  {
   "cell_type": "code",
   "execution_count": 0,
   "metadata": {
    "application/vnd.databricks.v1+cell": {
     "cellMetadata": {
      "byteLimit": 2048000,
      "rowLimit": 10000
     },
     "inputWidgets": {},
     "nuid": "48e56fb1-0350-4549-88fb-8857a29cd000",
     "showTitle": false,
     "title": ""
    }
   },
   "outputs": [
    {
     "output_type": "stream",
     "name": "stdout",
     "output_type": "stream",
     "text": [
      "Cheers to covid\n"
     ]
    }
   ],
   "source": [
    "starting_year_covid(year_from_widget)"
   ]
  },
  {
   "cell_type": "markdown",
   "metadata": {
    "application/vnd.databricks.v1+cell": {
     "cellMetadata": {},
     "inputWidgets": {},
     "nuid": "a3bfd47d-8c22-4780-b6c7-3b75c09a7674",
     "showTitle": false,
     "title": ""
    }
   },
   "source": [
    "##To remove the Widgets during Runtime"
   ]
  },
  {
   "cell_type": "code",
   "execution_count": 0,
   "metadata": {
    "application/vnd.databricks.v1+cell": {
     "cellMetadata": {
      "byteLimit": 2048000,
      "rowLimit": 10000
     },
     "inputWidgets": {},
     "nuid": "84491014-6f1a-43b5-94f7-426d3373746c",
     "showTitle": false,
     "title": ""
    }
   },
   "outputs": [],
   "source": [
    "dbutils.widgets.remove('year') #remove particular Widgets"
   ]
  },
  {
   "cell_type": "code",
   "execution_count": 0,
   "metadata": {
    "application/vnd.databricks.v1+cell": {
     "cellMetadata": {
      "byteLimit": 2048000,
      "rowLimit": 10000
     },
     "inputWidgets": {},
     "nuid": "389fcf51-e5c0-4795-a28d-ff86583f8931",
     "showTitle": false,
     "title": ""
    }
   },
   "outputs": [],
   "source": [
    "dbutils.widgets.removeAll() #to remove all"
   ]
  },
  {
   "cell_type": "markdown",
   "metadata": {
    "application/vnd.databricks.v1+cell": {
     "cellMetadata": {},
     "inputWidgets": {},
     "nuid": "cd7849ab-74ca-49e3-b14f-cffdce774a61",
     "showTitle": false,
     "title": ""
    }
   },
   "source": [
    "##Some Use full UseCase"
   ]
  },
  {
   "cell_type": "code",
   "execution_count": 0,
   "metadata": {
    "application/vnd.databricks.v1+cell": {
     "cellMetadata": {},
     "inputWidgets": {},
     "nuid": "bb22e306-5894-4321-9d84-792b712ec233",
     "showTitle": true,
     "title": "Create a dropdown widget of all databases in the current catalog"
    }
   },
   "outputs": [],
   "source": [
    "%sql\n",
    "create database dbooo"
   ]
  },
  {
   "cell_type": "code",
   "execution_count": 0,
   "metadata": {
    "application/vnd.databricks.v1+cell": {
     "cellMetadata": {},
     "inputWidgets": {},
     "nuid": "f9843591-f8c7-49ee-a94d-59819dbfe4ea",
     "showTitle": false,
     "title": ""
    }
   },
   "outputs": [],
   "source": [
    "%python\n",
    "dbutils.widgets.dropdown(\"database\", \"default\", [database[0] for database in spark.catalog.listDatabases()])"
   ]
  },
  {
   "cell_type": "code",
   "execution_count": 0,
   "metadata": {
    "application/vnd.databricks.v1+cell": {
     "cellMetadata": {},
     "inputWidgets": {},
     "nuid": "3e26c1f6-2e87-4436-aca4-85ac48804a29",
     "showTitle": false,
     "title": ""
    }
   },
   "outputs": [],
   "source": [
    "Create a text widget to manually specify a table name:"
   ]
  },
  {
   "cell_type": "code",
   "execution_count": 0,
   "metadata": {
    "application/vnd.databricks.v1+cell": {
     "cellMetadata": {
      "byteLimit": 2048000,
      "rowLimit": 10000
     },
     "inputWidgets": {},
     "nuid": "5b27a693-d13c-4366-bc8f-6c69d85e0d7d",
     "showTitle": false,
     "title": ""
    }
   },
   "outputs": [],
   "source": [
    "dbutils.widgets.text(\"table\", \"\")"
   ]
  },
  {
   "cell_type": "code",
   "execution_count": 0,
   "metadata": {
    "application/vnd.databricks.v1+cell": {
     "cellMetadata": {},
     "inputWidgets": {},
     "nuid": "dbab7a46-2742-4cfc-a47a-7ce1f785c0c3",
     "showTitle": false,
     "title": ""
    }
   },
   "outputs": [],
   "source": []
  }
 ],
 "metadata": {
  "application/vnd.databricks.v1+notebook": {
   "dashboards": [],
   "language": "python",
   "notebookMetadata": {
    "pythonIndentUnit": 4,
    "widgetLayout": [
     {
      "breakBefore": false,
      "name": "Comments",
      "width": 193
     },
     {
      "breakBefore": false,
      "name": "year",
      "width": 129
     }
    ]
   },
   "notebookName": "Widgets-in-Python-Notebook",
   "widgets": {
    "Comments": {
     "currentValue": "Add the comments",
     "nuid": "f0a4855a-91be-4808-8250-fc5c1741b7b6",
     "widgetInfo": {
      "widgetType": "text",
      "defaultValue": "Add the comments",
      "label": "Text",
      "name": "Comments",
      "options": {
       "widgetType": "text",
       "autoCreated": null,
       "validationRegex": null
      }
     }
    },
    "MultiSelect": {
     "currentValue": "z",
     "nuid": "875c88f3-c451-478b-b7e5-cf40552afad0",
     "widgetInfo": {
      "widgetType": "multiselect",
      "defaultValue": "z",
      "label": "select the values",
      "name": "MultiSelect",
      "options": {
       "widgetType": "dropdown",
       "autoCreated": null,
       "choices": [
        "x",
        "y",
        "z",
        "f"
       ]
      }
     }
    },
    "combobox": {
     "currentValue": "z",
     "nuid": "6b9457c2-0618-44cc-ae3f-0ffb6c6da682",
     "widgetInfo": {
      "widgetType": "combobox",
      "defaultValue": "z",
      "label": "combobox_list",
      "name": "combobox",
      "options": {
       "widgetType": "dropdown",
       "autoCreated": null,
       "choices": [
        "x",
        "y",
        "z",
        "f"
       ]
      }
     }
    },
    "table": {
     "currentValue": "col1",
     "nuid": "6e610136-dc45-4522-a292-e0d0f6029257",
     "widgetInfo": {
      "widgetType": "text",
      "defaultValue": "",
      "label": null,
      "name": "table",
      "options": {
       "widgetType": "text",
       "autoCreated": null,
       "validationRegex": null
      }
     }
    },
    "year": {
     "currentValue": "2014",
     "nuid": "4afad9fd-7dff-4fb7-b780-2fbbbe63f518",
     "widgetInfo": {
      "widgetType": "dropdown",
      "defaultValue": "2014",
      "label": null,
      "name": "year",
      "options": {
       "widgetType": "dropdown",
       "autoCreated": null,
       "choices": [
        "2010",
        "2011",
        "2012",
        "2014",
        "2019"
       ]
      }
     }
    }
   }
  }
 },
 "nbformat": 4,
 "nbformat_minor": 0
}
